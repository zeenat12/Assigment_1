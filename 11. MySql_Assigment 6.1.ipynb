{
 "cells": [
  {
   "cell_type": "markdown",
   "id": "55f2e9cf",
   "metadata": {},
   "source": [
    "## Q1. What is a database? Differentiate between SQL and NoSQL databases."
   ]
  },
  {
   "cell_type": "markdown",
   "id": "bb8f1fb8",
   "metadata": {},
   "source": [
    "A database is an organized collection of structed information, or data , typically stored electronically in a computer system."
   ]
  },
  {
   "cell_type": "markdown",
   "id": "bedb0c42",
   "metadata": {},
   "source": [
    "## SQL\n",
    "1) SQL Database are categarized as relational database managment system (RDMS).\n",
    "2) SQL Database have fixed or static or predefine schema.\n",
    "3) SQL Database display data in the form pf tables so it is know as table-based database.\n",
    "4) It has standard language.\n",
    "5) SQL Database are vertically scalable.\n",
    "6) SQL Database use a powerful language 'Standard Query language' to define and manipulate the data.\n"
   ]
  },
  {
   "cell_type": "markdown",
   "id": "b70d57c7",
   "metadata": {},
   "source": [
    "## NOSQL\n",
    "1) NoSQL Database are categarized as non-relational or distributed database managment system (RDMS).\n",
    "2) NoSQL Database have dynamic schema.\n",
    "3) NoSQL Database display data as collection key-value pair, documents, graph, database or wide-column stores.\n",
    "4) It has no declaration language.\n",
    "5) NoSQL Database are horizontally scalable.\n",
    "6) NOSQL Database, collection of documents are used to querry the data. it is also called unstructed query language. it varies from database to database.\n"
   ]
  },
  {
   "cell_type": "markdown",
   "id": "aa5b63af",
   "metadata": {},
   "source": [
    "## Q2. What is DDL? Explain why CREATE, DROP, ALTER, and TRUNCATE are used with an example."
   ]
  },
  {
   "cell_type": "markdown",
   "id": "2397d73c",
   "metadata": {},
   "source": [
    "Data Definition Language(DDL) is a subset of SQL and a part of DBMS(Database Management System). DDL consist of Commands to commands like CREATE, ALTER, TRUNCATE and DROP. These commands are used to create or modify the tables in SQL."
   ]
  },
  {
   "cell_type": "markdown",
   "id": "dcffc380",
   "metadata": {},
   "source": [
    "### The following are the DDL commands,\n",
    "\n",
    "1) CREATE\n",
    "2) DROP \n",
    "3) ALTER \n",
    "4) TRUNCATE\n"
   ]
  },
  {
   "cell_type": "markdown",
   "id": "58294500",
   "metadata": {},
   "source": [
    "#### 1) CREATE :\n",
    "This command is used to create a new table in SQL. The user has to give information like table name, column names, and their datatypes.\n",
    "\n",
    "**syntax:**\n",
    "CREATE TABLE table_name ( column_1 datatype(size), column_2 datatype(size), column_3 datatype(size),....);\n",
    "\n",
    "**Example:**\n",
    "CREATE TABLE student_info(id INT(2), name INT(15), phone_number INT(15), college_name VARCHAR(30));"
   ]
  },
  {
   "cell_type": "markdown",
   "id": "318b154a",
   "metadata": {},
   "source": [
    "#### 2) DROP\n",
    "This command is used to remove an existing table along its structure from the databse.\n",
    "\n",
    "**Syntax:**\n",
    "DROP TABLE table_name;\n",
    "\n",
    "**Example:**\n",
    "DROP TABLE student_info;"
   ]
  },
  {
   "cell_type": "markdown",
   "id": "a4ac1ba1",
   "metadata": {},
   "source": [
    "#### 3) ALTER\n",
    "This command is used to add, delete or change columns in the existing table. The user needs to know the existing table name and can do add, delete or modify tasks easily.\n",
    "\n",
    "**Syntax:**\n",
    "ALTER TABLE table_name\n",
    "ADD column_name datatype;\n",
    "\n",
    "**Example:**\n",
    "ALTER TABLE student_info ADD address;"
   ]
  },
  {
   "cell_type": "markdown",
   "id": "889dc6eb",
   "metadata": {},
   "source": [
    "#### 4) TRUNCATE\n",
    "This command is used to remove all rows from the table, but the structure of the table still exists.\n",
    "\n",
    "**Syntax:**\n",
    "TRUNCATE TABLE table_name;\n",
    "\n",
    "**Example:**\n",
    "TRUNCATE TABLE student_info;"
   ]
  },
  {
   "cell_type": "markdown",
   "id": "93e1f848",
   "metadata": {},
   "source": [
    "## Q3. What is DML? Explain INSERT, UPDATE, and DELETE with an example."
   ]
  },
  {
   "cell_type": "markdown",
   "id": "08c8eb52",
   "metadata": {},
   "source": [
    "A Data Manipulation Language or DML is a computer peogramming language, basically a compent of SQL, which is used to add, delete or modify data in a database."
   ]
  },
  {
   "cell_type": "markdown",
   "id": "413b9e6b",
   "metadata": {},
   "source": [
    "### 1) INSERT\n",
    "\n",
    "This command is used to add new records or rows to a table.\n",
    "\n",
    "**Syntax:** INSERT INTO table_name VALUE(V1, V2, V3, V4,....);\n",
    "                 **OR**\n",
    "            INSERT INTO table_name(column1_name, column2_name, coulmn3_name, .....) VALUES(value1, value2, Value3,....);\n",
    "\n",
    "**Example:** INSERT INTO student_info VALUE(2, 'Yash', 56789075, 'Rosary english high school');"
   ]
  },
  {
   "cell_type": "markdown",
   "id": "94be449b",
   "metadata": {},
   "source": [
    "### 2) UPDATE\n",
    "\n",
    "This command is used to change or modify data in a table.\n",
    "\n",
    "**Syntax:** UPDATE table_name SET (column_name1 = value1, column_name2 = Value2);\n",
    "\n",
    "**Example:** UPDATE student_info SET name = 'Rohan' WHERE id = 2);"
   ]
  },
  {
   "cell_type": "markdown",
   "id": "b15e65b0",
   "metadata": {},
   "source": [
    "### 3) DELETE\n",
    "\n",
    "This command is used to delete a record or a data in a table.\n",
    "\n",
    "**Syntax:** DELETE FROM table_name WHERE Condition;\n",
    "\n",
    "**Example:** DELETE FROM student_info WHERE id = 2;"
   ]
  },
  {
   "cell_type": "markdown",
   "id": "39e8883d",
   "metadata": {},
   "source": [
    "## Q4. What is DQL? Explain SELECT with an example."
   ]
  },
  {
   "cell_type": "markdown",
   "id": "21a66aef",
   "metadata": {},
   "source": [
    "A Data Query Language (DQL) is a computer language, basically a compoenent of SQL which is used to perform quries on the data within database objects. It is used to retrive information stored in the tables in a database."
   ]
  },
  {
   "cell_type": "markdown",
   "id": "dd9f3694",
   "metadata": {},
   "source": [
    "**Syntax:** SELECT * FROM table_name;\n",
    "\n",
    "**Example:** SELECT * FROM student_info;"
   ]
  },
  {
   "cell_type": "markdown",
   "id": "8059cda5",
   "metadata": {},
   "source": [
    "## Q5. Explain Primary Key and Foreign Key."
   ]
  },
  {
   "cell_type": "markdown",
   "id": "5df293f5",
   "metadata": {},
   "source": [
    "## Primary Key\n",
    "1) Primary key uniquely identify a record in the table.\n",
    "2) Primary Key can't accept null values.\n",
    "3) By default, Primary key is clustered index and data in the database table is physically organized in the sequence of clustered index.\n",
    "4) We can have only one Primary key in a table."
   ]
  },
  {
   "cell_type": "markdown",
   "id": "42eb31da",
   "metadata": {},
   "source": [
    "## Foreign Key\n",
    "1) Foreign key is a field in the table that is primary key in another table.\n",
    "2) Foreign key can accept multiple null value.\n",
    "3) Foreign key do not automatically create an index, clustered or non-clustered. You can manually create an index on foreign key.\n",
    "4) We can have more than one foreign key in a table."
   ]
  },
  {
   "cell_type": "markdown",
   "id": "43fea919",
   "metadata": {},
   "source": [
    "# Q6. Write a python code to connect MySQL to python. Explain the cursor() and execute() method."
   ]
  },
  {
   "cell_type": "code",
   "execution_count": null,
   "id": "beb7ffcd",
   "metadata": {},
   "outputs": [],
   "source": [
    "import mysql.connector\n",
    "mydb = mysql.connector.connect(\n",
    "       host = 'localhost',\n",
    "       user = 'abc',\n",
    "       password = 'password'\n",
    ")\n",
    "print(mydb)\n",
    "mycursor = mydb.cursor()\n",
    "mycrsor.execute('Write my sql code')\n",
    "mydb.close()"
   ]
  },
  {
   "cell_type": "markdown",
   "id": "eb0b9767",
   "metadata": {},
   "source": [
    "**cursor() Method:**\n",
    "The cursor() method is used to create a cursor object, which is a pointer or a control structure that allows you to interact with the database. The cursor object provides methods for executing SQL queries and fetching results.\n",
    "\n",
    "**execute() Method:**\n",
    "The execute() method is used to execute SQL queries through the cursor object. You pass the SQL query as an argument to this method. It performs the query on the database and can be used for various types of queries like SELECT, INSERT, UPDATE, and DELETE."
   ]
  },
  {
   "cell_type": "markdown",
   "id": "0d5a6ec4",
   "metadata": {},
   "source": [
    "# Q7. Give the order of execution of SQL clauses in an SQL query."
   ]
  },
  {
   "cell_type": "markdown",
   "id": "ee26ad61",
   "metadata": {},
   "source": [
    "In a typical SQL query, the clauses are not executed in the order they are written. Instead, SQL goes through several logical steps to process a query. The general order of execution is as follows:\n",
    "\n",
    "**FROM:** The FROM clause specifies the tables from which the data will be retrieved. It is the first step where the data sources are identified.\n",
    "\n",
    "**JOIN:** If there are any JOIN clauses in the query, the database will perform the necessary joins to combine data from multiple tables.\n",
    "\n",
    "**WHERE:** The WHERE clause filters the rows from the joined tables based on the specified conditions. It operates on the rows resulting from the join step.\n",
    "\n",
    "**GROUP BY:** If there is a GROUP BY clause, the rows are grouped according to the specified columns. This is typically used in combination with aggregate functions like SUM, AVG, etc.\n",
    "\n",
    "**HAVING:** The HAVING clause filters the grouped rows based on aggregate function results. It operates similarly to the WHERE clause but applies to groups of rows.\n",
    "\n",
    "**SELECT:** The SELECT clause specifies which columns to include in the output. It operates on the rows and groups that passed through the previous steps.\n",
    "\n",
    "**DISTINCT:** If the DISTINCT keyword is used, duplicate rows are removed from the result set at this stage.\n",
    "\n",
    "**ORDER BY:** The ORDER BY clause is used to sort the result set based on one or more columns. It operates on the rows that have passed through all the previous steps.\n",
    "\n",
    "**LIMIT / OFFSET:** If LIMIT and OFFSET clauses are used, they are applied to the sorted result set to restrict the number of rows returned and to skip a certain number of rows."
   ]
  }
 ],
 "metadata": {
  "kernelspec": {
   "display_name": "Python 3",
   "language": "python",
   "name": "python3"
  },
  "language_info": {
   "codemirror_mode": {
    "name": "ipython",
    "version": 3
   },
   "file_extension": ".py",
   "mimetype": "text/x-python",
   "name": "python",
   "nbconvert_exporter": "python",
   "pygments_lexer": "ipython3",
   "version": "3.8.8"
  }
 },
 "nbformat": 4,
 "nbformat_minor": 5
}
