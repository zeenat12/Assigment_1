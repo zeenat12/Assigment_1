{
 "cells": [
  {
   "cell_type": "markdown",
   "id": "b905907c",
   "metadata": {},
   "source": [
    "# Q1: What is Matplotlib? Why is it used? Name five plots that can be plotted using the Pyplot module of Matplotlib."
   ]
  },
  {
   "cell_type": "markdown",
   "id": "5e22c380",
   "metadata": {},
   "source": [
    "Matplotlib is a popular Python library used for creating various types of plots and charts. It helps people visualize data in a graphical format, which can make it easier to understand and analyze information.\n",
    "\n",
    "Here are five types of plots that you can create using the Pyplot module of Matplotlib:\n",
    "\n",
    "1. Line Plot: Used to show the relationship between two variables over a continuous range, typically with lines connecting data points.\n",
    "\n",
    "2. Scatter Plot: Shows individual data points as dots on a graph, useful for displaying the distribution or correlation between two variables.\n",
    "\n",
    "3. Bar Plot: Represents data using rectangular bars, suitable for comparing values across different categories or groups.\n",
    "\n",
    "4. Histogram: Used to visualize the distribution of a single dataset by dividing it into bins and displaying the frequency of values within each bin.\n",
    "\n",
    "5. Pie Chart: Represents data as a circular chart divided into slices, helpful for showing the composition or proportion of different categories in a dataset.\n",
    "\n",
    "These plots help researchers, analysts, and data scientists to present their findings and insights effectively, making it easier for others to grasp the information visually."
   ]
  },
  {
   "cell_type": "markdown",
   "id": "620e4481",
   "metadata": {},
   "source": [
    "# Q.2 What is a scatter plot? Use the following code to generate data for x and y. Using this generated data\n",
    "##  plot a scatter plot.\n",
    "###  import numpy as np\n",
    "### np.random.seed(3)\n",
    "### x = 3 + np.random.normal(0, 2, 50)\n",
    "### y = 3 + np.random.normal(0, 2, len(x))\n",
    "### Note: Also add title, xlabel, and ylabel to the plot.** "
   ]
  },
  {
   "cell_type": "markdown",
   "id": "f5e53b84",
   "metadata": {},
   "source": [
    "**Scatter Plot: Shows individual data points as dots on a graph, useful for displaying the distribution or correlation between two variables.**"
   ]
  },
  {
   "cell_type": "code",
   "execution_count": 16,
   "id": "a553ddba",
   "metadata": {},
   "outputs": [],
   "source": [
    "import numpy as np\n",
    "import matplotlib.pyplot as plot"
   ]
  },
  {
   "cell_type": "code",
   "execution_count": 17,
   "id": "1c46ed4d",
   "metadata": {},
   "outputs": [],
   "source": [
    "np.random.seed(3)"
   ]
  },
  {
   "cell_type": "code",
   "execution_count": 18,
   "id": "597a2d75",
   "metadata": {},
   "outputs": [],
   "source": [
    "x = 3 + np.random.normal(0,2,50)"
   ]
  },
  {
   "cell_type": "code",
   "execution_count": 19,
   "id": "84abf73f",
   "metadata": {},
   "outputs": [],
   "source": [
    "y = 3 + np.random.normal(0,2, len(x))"
   ]
  },
  {
   "cell_type": "code",
   "execution_count": 20,
   "id": "d29cf7d3",
   "metadata": {},
   "outputs": [
    {
     "data": {
      "text/plain": [
       "array([ 6.57725695,  3.8730197 ,  3.19299494, -0.72698541,  2.44522359,\n",
       "        2.29048204,  2.83451704,  1.74599865,  2.91236366,  2.04556394,\n",
       "        0.37227049,  4.76924476,  4.76263608,  6.41914613,  3.10006728,\n",
       "        2.19064517,  1.9092801 , -0.09295463,  4.96473487,  0.79786474,\n",
       "        0.62990695,  2.5887002 ,  5.97229671,  3.47343253,  0.95242972,\n",
       "        1.5740136 ,  4.25048993,  2.67897327,  1.4623273 ,  2.53993856,\n",
       "        4.49011253,  6.95222157,  0.51175334,  1.74716618,  1.39246781,\n",
       "       -1.83816635,  1.15241596,  0.95224848,  5.24795592,  2.73617153,\n",
       "       -0.24657089,  4.2933509 ,  2.28745848, -0.48628207,  1.80670072,\n",
       "        1.82281124,  1.2522354 ,  3.05942763, -1.49651554,  2.46447627])"
      ]
     },
     "execution_count": 20,
     "metadata": {},
     "output_type": "execute_result"
    }
   ],
   "source": [
    "x"
   ]
  },
  {
   "cell_type": "code",
   "execution_count": 21,
   "id": "852699ac",
   "metadata": {},
   "outputs": [
    {
     "data": {
      "text/plain": [
       "array([ 5.02636688,  4.70559568,  5.216375  ,  5.23878131,  5.97508626,\n",
       "        0.76339863,  4.69166681, -0.72177906,  1.79422979, -0.82894409,\n",
       "        5.09629502,  5.66747564,  2.60517064,  6.54929006,  1.65054498,\n",
       "        3.30123373,  3.30589141,  0.87160945,  3.87589322,  6.87795692,\n",
       "        0.95013825,  4.79867689,  2.6909863 ,  6.53925461,  3.9675767 ,\n",
       "        4.3524328 ,  4.28632656,  3.49817341,  0.20847299,  5.78332582,\n",
       "        0.25866197,  3.47712638,  4.22815418,  1.32417545,  3.29012643,\n",
       "        5.33576457,  2.95179106,  1.22268516, -2.8314755 ,  1.05631899,\n",
       "        1.81784252,  1.96716526,  1.08000764,  3.75459047,  1.85058316,\n",
       "        2.78109133,  4.3581432 ,  1.28912566,  2.39958785,  7.31629868])"
      ]
     },
     "execution_count": 21,
     "metadata": {},
     "output_type": "execute_result"
    }
   ],
   "source": [
    "y"
   ]
  },
  {
   "cell_type": "code",
   "execution_count": 24,
   "id": "469c42a9",
   "metadata": {},
   "outputs": [
    {
     "data": {
      "text/plain": [
       "Text(0.5, 1.0, 'Scatter plot')"
      ]
     },
     "execution_count": 24,
     "metadata": {},
     "output_type": "execute_result"
    },
    {
     "data": {
      "image/png": "[encoded data removed]",
      "text/plain": [
       "<Figure size 432x288 with 1 Axes>"
      ]
     },
     "metadata": {
      "needs_background": "light"
     },
     "output_type": "display_data"
    }
   ],
   "source": [
    "plot.scatter(x,y , c = \"g\")\n",
    "plot.xlabel(\"X-axis\")\n",
    "plot.ylabel(\"y-axis\")\n",
    "plot.title(\"Scatter plot\")"
   ]
  },
  {
   "cell_type": "markdown",
   "id": "d1fa02ac",
   "metadata": {},
   "source": [
    "# Q3: Why is the subplot() function used? Draw four line plots using the subplot() function.\n",
    "# Use the following data:\n",
    "**import numpy as np**    \n",
    "**For line 1: x = np.array([0, 1, 2, 3, 4, 5]) and y = np.array([0, 100, 200, 300, 400, 500])  \n",
    "For line 2: x = np.array([0, 1, 2, 3, 4, 5]) and y = np.array([50, 20, 40, 20, 60, 70])   \n",
    "For line 3: x = np.array([0, 1, 2, 3, 4, 5]) and y = np.array([10, 20, 30, 40, 50, 60])  \n",
    "For line 4: x = np.array([0, 1, 2, 3, 4, 5]) and y = np.array([200, 350, 250, 550, 450, 150])** "
   ]
  },
  {
   "cell_type": "markdown",
   "id": "36ed9b2c",
   "metadata": {},
   "source": [
    "The subplot() function in Python, often used in conjunction with libraries like Matplotlib, is used to create multiple plots within a single figure. It allows you to arrange multiple plots (subplots) in rows and columns, which can be helpful for visualizing and comparing different data or aspects of your data in a single figure. Each subplot can have its own data, axes, labels, and formatting."
   ]
  },
  {
   "cell_type": "code",
   "execution_count": 54,
   "id": "f0844624",
   "metadata": {},
   "outputs": [],
   "source": [
    "import matplotlib.pyplot as plt\n",
    "import numpy as np\n",
    "x = np.array([0, 1, 2, 3, 4, 5])\n",
    "y1 = np.array([0, 100, 200, 300, 400, 500])\n",
    "y2 = np.array([50, 20, 40, 20, 60, 70])\n",
    "y3 = np.array([10, 20, 30, 40, 50, 60])\n",
    "y4 = np.array([200, 350, 250, 550, 450, 150])\n"
   ]
  },
  {
   "cell_type": "code",
   "execution_count": 56,
   "id": "2d168d40",
   "metadata": {},
   "outputs": [
    {
     "data": {
      "image/png": "[encoded data removed]",
      "text/plain": [
       "<Figure size 720x576 with 1 Axes>"
      ]
     },
     "metadata": {
      "needs_background": "light"
     },
     "output_type": "display_data"
    }
   ],
   "source": [
    "# For line 1\n",
    "plt.figure(figsize=(10, 8))\n",
    "plt.subplot(2, 2, 1)\n",
    "plt.plot(x, y1)\n",
    "plt.title('subplot')\n",
    "plt.tight_layout()\n",
    "plt.show()"
   ]
  },
  {
   "cell_type": "code",
   "execution_count": 59,
   "id": "323d7ba6",
   "metadata": {},
   "outputs": [
    {
     "data": {
      "image/png": "[encoded data removed]",
      "text/plain": [
       "<Figure size 720x576 with 1 Axes>"
      ]
     },
     "metadata": {
      "needs_background": "light"
     },
     "output_type": "display_data"
    }
   ],
   "source": [
    "# for line 2\n",
    "plt.figure(figsize=(10, 8))\n",
    "plt.subplot(2, 2, 2)\n",
    "plt.plot(x, y2)\n",
    "plt.title('subplot for line 2')\n",
    "plt.tight_layout()\n",
    "plt.show()"
   ]
  },
  {
   "cell_type": "code",
   "execution_count": 65,
   "id": "cafac857",
   "metadata": {},
   "outputs": [
    {
     "data": {
      "image/png": "[encoded data removed]",
      "text/plain": [
       "<Figure size 720x576 with 1 Axes>"
      ]
     },
     "metadata": {
      "needs_background": "light"
     },
     "output_type": "display_data"
    }
   ],
   "source": [
    "plt.figure(figsize=(10,8))\n",
    "plt.subplot(2, 2, 2)\n",
    "plt.plot(x,y3)\n",
    "plt.title(\"subplot for line 3\")\n",
    "plt.tight_layout()\n",
    "plt.show()"
   ]
  },
  {
   "cell_type": "code",
   "execution_count": 66,
   "id": "9e8ed0a6",
   "metadata": {},
   "outputs": [
    {
     "data": {
      "image/png": "[encoded data removed]",
      "text/plain": [
       "<Figure size 720x576 with 1 Axes>"
      ]
     },
     "metadata": {
      "needs_background": "light"
     },
     "output_type": "display_data"
    }
   ],
   "source": [
    "plt.figure(figsize=(10,8))\n",
    "plt.subplot(2, 2, 2)\n",
    "plt.plot(x,y4)\n",
    "plt.title(\"subplot for line 4\")\n",
    "plt.tight_layout()\n",
    "plt.show()"
   ]
  },
  {
   "cell_type": "markdown",
   "id": "1b6687b8",
   "metadata": {},
   "source": [
    "## Q4: What is a bar plot? Why is it used? Using the following data plot a bar plot and a horizontal bar plot.\n",
    "## import numpy as np\n",
    "## company = np.array([\"Apple\", \"Microsoft\", \"Google\", \"AMD\"])\n",
    "## profit = np.array([3000, 8000, 1000, 10000])"
   ]
  },
  {
   "cell_type": "markdown",
   "id": "80f96791",
   "metadata": {},
   "source": [
    "A bar plot, also known as a bar chart or bar graph, is a data visualization technique that represents categorical data with rectangular bars. Each bar's length or height is proportional to the value it represents. Bar plots are used to display and compare the values of different categories or groups, making them useful for various purposes, including:\n",
    "\n",
    "1. **Comparison of Categorical Data**: Bar plots are excellent for comparing data across different categories or groups. You can easily see which category has the highest or lowest value.\n",
    "\n",
    "2. **Visualizing Frequency or Counts**: Bar plots can represent the frequency or count of items within different categories. For example, you can use a bar plot to show the number of products sold in different regions.\n",
    "\n",
    "3. **Showing Distribution**: Bar plots can provide insights into the distribution of categorical data. They can help you visualize how data is spread across categories and identify patterns or trends.\n",
    "\n",
    "4. **Track Changes Over Time**: Grouped bar plots or stacked bar plots can be used to track changes in categorical data over time or across different conditions.\n",
    "\n",
    "5. **Comparison of Data Across Multiple Groups**: You can create grouped or clustered bar plots to compare data across multiple groups simultaneously. This is particularly useful for showing how multiple factors affect a particular outcome.\n",
    "\n",
    "6. **Highlighting Differences**: Bar plots can emphasize the differences between categories, making it easier to identify outliers or significant variations.\n",
    "\n",
    "Bar plots can be created using various tools and libraries in programming languages like Python (e.g., Matplotlib and Seaborn), R, and more. They are a fundamental visualization tool in data analysis and are widely used in reports, presentations, and scientific research to convey categorical data effectively."
   ]
  },
  {
   "cell_type": "code",
   "execution_count": 30,
   "id": "80792172",
   "metadata": {},
   "outputs": [],
   "source": [
    "import numpy as np\n",
    "import matplotlib.pyplot as plt\n",
    "company = np.array([\"Apple\", \"Microsoft\", \"Google\", \"AMD\"])\n",
    "profit = np.array([3000, 8000, 1000, 10000])"
   ]
  },
  {
   "cell_type": "code",
   "execution_count": 35,
   "id": "4dea9ebf",
   "metadata": {},
   "outputs": [
    {
     "data": {
      "text/plain": [
       "Text(0.5, 1.0, 'Bar Graph')"
      ]
     },
     "execution_count": 35,
     "metadata": {},
     "output_type": "execute_result"
    },
    {
     "data": {
      "image/png": "[encoded data removed]",
      "text/plain": [
       "<Figure size 432x288 with 1 Axes>"
      ]
     },
     "metadata": {
      "needs_background": "light"
     },
     "output_type": "display_data"
    }
   ],
   "source": [
    "plt.bar(company, profit, color = \"g\")\n",
    "plt.xlabel(\"company\")\n",
    "plt.ylabel(\"profit\")\n",
    "plt.title(\"Bar Graph\")"
   ]
  },
  {
   "cell_type": "markdown",
   "id": "436c4d71",
   "metadata": {},
   "source": [
    "# Q5: What is a box plot? Why is it used? Using the following data plot a box plot.\n",
    "## box1 = np.random.normal(100, 10, 200)\n",
    "## box2 = np.random.normal(90, 20, 200)"
   ]
  },
  {
   "cell_type": "markdown",
   "id": "ab28c9b4",
   "metadata": {},
   "source": [
    "A box plot, also known as a box-and-whisker plot, is a graphical representation of a dataset's statistical distribution. It is used to provide a visual summary of key characteristics and variations within the data. "
   ]
  },
  {
   "cell_type": "markdown",
   "id": "7794a3a6",
   "metadata": {},
   "source": [
    "**Purposes of a Box Plot:**\n",
    "\n",
    "1. **Summary of Data Distribution:** A box plot provides a concise summary of how the data is distributed, showing the central tendency (median), spread (IQR), and potential outliers.\n",
    "\n",
    "2. **Outlier Detection:** It helps in identifying potential outliers, which are data points that significantly differ from the majority of the data.\n",
    "\n",
    "3. **Comparison of Data Distributions:** Box plots are useful for comparing the distributions of multiple datasets or categories, allowing you to understand variations and differences among groups or conditions.\n",
    "\n",
    "4. **Visualizing Data Spread:** By observing the spread of the data within the IQR and the length of the whiskers, you can gauge how tightly or loosely the data points cluster around the median.\n",
    "\n",
    "5. **Detection of Skewness:** The orientation of the box plot can indicate skewness (asymmetry) in the data distribution. A long tail on one side of the box suggests skewness in that direction.\n",
    "\n",
    "6. **Identification of Quartiles:** The box plot visually represents quartiles, with the box itself indicating the IQR, the lower edge of the box corresponding to the first quartile (Q1), and the upper edge representing the third quartile (Q3)."
   ]
  },
  {
   "cell_type": "code",
   "execution_count": 36,
   "id": "9eaf708a",
   "metadata": {},
   "outputs": [],
   "source": [
    "box1 = np.random.normal(100, 10, 200)"
   ]
  },
  {
   "cell_type": "code",
   "execution_count": 42,
   "id": "2af7243b",
   "metadata": {},
   "outputs": [
    {
     "data": {
      "image/png": "[encoded data removed]",
      "text/plain": [
       "<Figure size 432x288 with 1 Axes>"
      ]
     },
     "metadata": {
      "needs_background": "light"
     },
     "output_type": "display_data"
    }
   ],
   "source": [
    "plt.boxplot(box1)\n",
    "plt.show()"
   ]
  },
  {
   "cell_type": "code",
   "execution_count": 40,
   "id": "155d588f",
   "metadata": {},
   "outputs": [],
   "source": [
    "box2 = np.random.normal(90, 20, 200)"
   ]
  },
  {
   "cell_type": "code",
   "execution_count": 43,
   "id": "2ae183fb",
   "metadata": {},
   "outputs": [
    {
     "data": {
      "image/png": "[encoded data removed]",
      "text/plain": [
       "<Figure size 432x288 with 1 Axes>"
      ]
     },
     "metadata": {
      "needs_background": "light"
     },
     "output_type": "display_data"
    }
   ],
   "source": [
    "plt.boxplot(box2)\n",
    "plt.show()"
   ]
  }
 ],
 "metadata": {
  "kernelspec": {
   "display_name": "Python 3",
   "language": "python",
   "name": "python3"
  },
  "language_info": {
   "codemirror_mode": {
    "name": "ipython",
    "version": 3
   },
   "file_extension": ".py",
   "mimetype": "text/x-python",
   "name": "python",
   "nbconvert_exporter": "python",
   "pygments_lexer": "ipython3",
   "version": "3.8.8"
  }
 },
 "nbformat": 4,
 "nbformat_minor": 5
}
