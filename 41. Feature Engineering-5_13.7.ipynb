{
 "cells": [
  {
   "cell_type": "markdown",
   "id": "ca26a8fe",
   "metadata": {},
   "source": [
    "# Q1. What is the difference between Ordinal Encoding and Label Encoding? Provide an example of when you might choose one over the other."
   ]
  },
  {
   "cell_type": "markdown",
   "id": "528fc2d8",
   "metadata": {},
   "source": [
    "Ordinal Encoding and Label Encoding are both techniques used to transform categorical data into numerical format, but they are used in different scenarios and have distinct characteristics:\n",
    "\n",
    "1. **Ordinal Encoding:**\n",
    "   - **Definition:** Ordinal Encoding is specifically designed for ordinal categorical variables, where the categories have a meaningful order or ranking.\n",
    "   - **Implementation:** It assigns numerical labels based on the order of the categories. The assigned labels reflect the ordinal relationships between the categories.\n",
    "   - **Example:** Consider the \"Education Level\" feature with categories: {\"High School,\" \"Bachelor's,\" \"Master's,\" \"Ph.D.\"}. Ordinal encoding might assign labels like {1, 2, 3, 4}, reflecting the increasing educational level.\n",
    "\n",
    "2. **Label Encoding:**\n",
    "   - **Definition:** Label Encoding is a more general technique that can be applied to both nominal and ordinal categorical variables.\n",
    "   - **Implementation:** It assigns a unique numerical label to each category, without considering any inherent order or ranking.\n",
    "   - **Example:** Consider the \"Color\" feature with categories: {\"Red,\" \"Green,\" \"Blue\"}. Label encoding might assign labels like {1, 2, 3}, without implying any order or hierarchy among the colors.\n",
    "\n",
    "**When to Choose One Over the Other:**\n",
    "\n",
    "- **Use Ordinal Encoding When:**\n",
    "  - The categorical variable has a clear and meaningful order or ranking among its categories.\n",
    "  - Preserving the ordinal relationships is important for the interpretation of the data.\n",
    "  - Example: Education level, satisfaction level (Low, Medium, High).\n",
    "\n",
    "- **Use Label Encoding When:**\n",
    "  - The categorical variable is nominal, and there is no inherent order or hierarchy among its categories.\n",
    "  - You want a simple and straightforward encoding without introducing ordinal relationships.\n",
    "  - Example: Gender, country names, color categories."
   ]
  },
  {
   "cell_type": "markdown",
   "id": "8b26ed57",
   "metadata": {},
   "source": [
    "# Q2. Explain how Target Guided Ordinal Encoding works and provide an example of when you might use it in a machine learning project."
   ]
  },
  {
   "cell_type": "markdown",
   "id": "e5a244ec",
   "metadata": {},
   "source": [
    "Target Guided Ordinal Encoding is a technique used to encode categorical variables based on the relationship between the categories and the target variable in a supervised machine learning setting. The method assigns ordinal labels to categories based on the likelihood of the target variable, making it particularly useful for improving the predictive power of models when there is a strong correlation between the categorical variable and the target.\n",
    "\n",
    "Here's how Target Guided Ordinal Encoding works:\n",
    "\n",
    "### Steps:\n",
    "\n",
    "1. **Calculate the Mean/Median/Other Statistic:**\n",
    "   - For each category in the categorical variable, calculate a summary statistic of the target variable (e.g., mean, median, etc.).\n",
    "\n",
    "2. **Order Categories Based on the Statistic:**\n",
    "   - Order the categories based on their calculated statistic. This establishes an ordinal relationship among the categories, with higher values indicating a stronger association with the target variable.\n",
    "\n",
    "3. **Assign Ordinal Labels:**\n",
    "   - Assign ordinal labels to the categories based on their order. The category with the highest statistic receives the highest label, and so on.\n",
    "\n",
    "### Example:\n",
    "\n",
    "Consider a dataset for a retail company that includes a \"Product_Category\" feature, and the target variable is \"Purchase\" (indicating whether a customer makes a purchase or not). We want to encode the product categories based on their average purchase amount.\n",
    "\n",
    "```plaintext\n",
    "| Product_Category | Purchase |\n",
    "|------------------|----------|\n",
    "| Electronics      | 120      |\n",
    "| Clothing         | 80       |\n",
    "| Electronics      | 150      |\n",
    "| Furniture        | 100      |\n",
    "| Clothing         | 90       |\n",
    "```\n",
    "\n",
    "### Steps:\n",
    "\n",
    "1. **Calculate Mean Purchase for Each Category:**\n",
    "   - Electronics: (120 + 150) / 2 = 135\n",
    "   - Clothing: (80 + 90) / 2 = 85\n",
    "   - Furniture: 100\n",
    "\n",
    "2. **Order Categories Based on Mean Purchase:**\n",
    "   - Electronics (135), Furniture (100), Clothing (85)\n",
    "\n",
    "3. **Assign Ordinal Labels:**\n",
    "   - Electronics: 3, Furniture: 2, Clothing: 1\n",
    "\n",
    "### Result:\n",
    "\n",
    "```plaintext\n",
    "| Product_Category | Purchase | TargetGuidedOrdinalEncoding |\n",
    "|------------------|----------|-----------------------------|\n",
    "| Electronics      | 120      | 3                           |\n",
    "| Clothing         | 80       | 1                           |\n",
    "| Electronics      | 150      | 3                           |\n",
    "| Furniture        | 100      | 2                           |\n",
    "| Clothing         | 90       | 1                           |\n",
    "```"
   ]
  },
  {
   "cell_type": "markdown",
   "id": "81a92abb",
   "metadata": {},
   "source": [
    "# Q3. Define covariance and explain why it is important in statistical analysis. How is covariance calculated?"
   ]
  },
  {
   "cell_type": "markdown",
   "id": "0e848a57",
   "metadata": {},
   "source": [
    "**Covariance:**\n",
    "Covariance is a statistical measure that describes the extent to which two random variables change together. In other words, it measures the degree of joint variability of two variables. If the variables tend to increase or decrease together, the covariance is positive. If one variable tends to increase as the other decreases, the covariance is negative. A covariance of zero indicates no linear relationship between the variables.\n",
    "\n",
    "**Importance in Statistical Analysis:**\n",
    "Covariance is crucial in statistical analysis for several reasons:\n",
    "\n",
    "1. **Relationship Between Variables:**\n",
    "   - Covariance helps identify whether there is a positive or negative relationship between two variables. A positive covariance suggests that the variables move together, while a negative covariance suggests an inverse relationship.\n",
    "\n",
    "2. **Scaling:**\n",
    "   - Covariance is not standardized and depends on the scales of the variables. As a result, it's often used in conjunction with correlation (which is a standardized measure) to understand the strength and direction of the relationship between variables.\n",
    "\n",
    "3. **Portfolio Analysis in Finance:**\n",
    "   - In finance, covariance is used in portfolio analysis. It helps assess how the returns of different assets move relative to each other. Positive covariance between assets implies that they tend to move in the same direction, which might increase portfolio risk. Negative covariance can provide diversification benefits.\n",
    "\n",
    "4. **Linear Regression:**\n",
    "   - In linear regression, covariance is used to calculate the coefficients that define the relationship between the independent and dependent variables.\n",
    "\n",
    "**Calculation of Covariance:**\n",
    "The formula for calculating the covariance between two variables, X and Y, in a sample is given by:"
   ]
  },
  {
   "attachments": {
    "Screenshot%202024-01-10%20135809.png": {
     "image/png": "[encoded data removed]"
    }
   },
   "cell_type": "markdown",
   "id": "bd1ff63c",
   "metadata": {},
   "source": [
    "![Screenshot%202024-01-10%20135809.png](attachment:Screenshot%202024-01-10%20135809.png)"
   ]
  },
  {
   "cell_type": "markdown",
   "id": "5dbdc449",
   "metadata": {},
   "source": [
    "In a population, the formula is adjusted slightly by dividing by \\(N\\) instead of \\(N-1\\), where \\(N\\) is the population size.\n",
    "\n",
    "It's important to note that covariance has limitations. It is sensitive to the scale of the variables, making it challenging to compare covariances across different datasets. For this reason, correlation, which is a standardized version of covariance, is often preferred for assessing the strength and direction of relationships between variables."
   ]
  },
  {
   "cell_type": "markdown",
   "id": "cdc1489a",
   "metadata": {},
   "source": [
    "# Q4. For a dataset with the following categorical variables: Color (red, green, blue), Size (small, medium, large), and Material (wood, metal, plastic), perform label encoding using Python's scikit-learn library. Show your code and explain the output."
   ]
  },
  {
   "cell_type": "code",
   "execution_count": 72,
   "id": "5b5ed82d",
   "metadata": {},
   "outputs": [],
   "source": [
    "from sklearn.preprocessing import LabelEncoder"
   ]
  },
  {
   "cell_type": "code",
   "execution_count": 73,
   "id": "21d24785",
   "metadata": {},
   "outputs": [],
   "source": [
    "encoded_color = LabelEncoder()\n",
    "encoded_size = LabelEncoder()\n",
    "encoded_material = LabelEncoder()"
   ]
  },
  {
   "cell_type": "code",
   "execution_count": 74,
   "id": "e4e11c31",
   "metadata": {},
   "outputs": [],
   "source": [
    "import pandas as pd\n",
    "df = pd.DataFrame({'color' : ['red', 'green', 'blue'],\n",
    "                   'Size' :  ['small', 'medium', 'large'],\n",
    "                   'Material' : ['wood', 'metal', 'plastic']\n",
    "})"
   ]
  },
  {
   "cell_type": "code",
   "execution_count": 75,
   "id": "d6f11bf3",
   "metadata": {},
   "outputs": [
    {
     "data": {
      "text/html": [
       "<div>\n",
       "<style scoped>\n",
       "    .dataframe tbody tr th:only-of-type {\n",
       "        vertical-align: middle;\n",
       "    }\n",
       "\n",
       "    .dataframe tbody tr th {\n",
       "        vertical-align: top;\n",
       "    }\n",
       "\n",
       "    .dataframe thead th {\n",
       "        text-align: right;\n",
       "    }\n",
       "</style>\n",
       "<table border=\"1\" class=\"dataframe\">\n",
       "  <thead>\n",
       "    <tr style=\"text-align: right;\">\n",
       "      <th></th>\n",
       "      <th>color</th>\n",
       "      <th>Size</th>\n",
       "      <th>Material</th>\n",
       "    </tr>\n",
       "  </thead>\n",
       "  <tbody>\n",
       "    <tr>\n",
       "      <th>0</th>\n",
       "      <td>red</td>\n",
       "      <td>small</td>\n",
       "      <td>wood</td>\n",
       "    </tr>\n",
       "    <tr>\n",
       "      <th>1</th>\n",
       "      <td>green</td>\n",
       "      <td>medium</td>\n",
       "      <td>metal</td>\n",
       "    </tr>\n",
       "    <tr>\n",
       "      <th>2</th>\n",
       "      <td>blue</td>\n",
       "      <td>large</td>\n",
       "      <td>plastic</td>\n",
       "    </tr>\n",
       "  </tbody>\n",
       "</table>\n",
       "</div>"
      ],
      "text/plain": [
       "   color    Size Material\n",
       "0    red   small     wood\n",
       "1  green  medium    metal\n",
       "2   blue   large  plastic"
      ]
     },
     "execution_count": 75,
     "metadata": {},
     "output_type": "execute_result"
    }
   ],
   "source": [
    "df"
   ]
  },
  {
   "cell_type": "code",
   "execution_count": 76,
   "id": "ae4f7653",
   "metadata": {},
   "outputs": [
    {
     "name": "stderr",
     "output_type": "stream",
     "text": [
      "C:\\Users\\ansar\\anaconda3\\lib\\site-packages\\sklearn\\preprocessing\\_label.py:114: DataConversionWarning: A column-vector y was passed when a 1d array was expected. Please change the shape of y to (n_samples, ), for example using ravel().\n",
      "  y = column_or_1d(y, warn=True)\n"
     ]
    }
   ],
   "source": [
    "df[encoded_color] = encoder.fit_transform(df[['color']])"
   ]
  },
  {
   "cell_type": "code",
   "execution_count": 77,
   "id": "473a2d20",
   "metadata": {},
   "outputs": [
    {
     "name": "stderr",
     "output_type": "stream",
     "text": [
      "C:\\Users\\ansar\\anaconda3\\lib\\site-packages\\sklearn\\preprocessing\\_label.py:114: DataConversionWarning: A column-vector y was passed when a 1d array was expected. Please change the shape of y to (n_samples, ), for example using ravel().\n",
      "  y = column_or_1d(y, warn=True)\n"
     ]
    }
   ],
   "source": [
    "df[encoded_size] = encoder.fit_transform(df[['Size']])"
   ]
  },
  {
   "cell_type": "code",
   "execution_count": 78,
   "id": "60e705fb",
   "metadata": {},
   "outputs": [
    {
     "name": "stderr",
     "output_type": "stream",
     "text": [
      "C:\\Users\\ansar\\anaconda3\\lib\\site-packages\\sklearn\\preprocessing\\_label.py:114: DataConversionWarning: A column-vector y was passed when a 1d array was expected. Please change the shape of y to (n_samples, ), for example using ravel().\n",
      "  y = column_or_1d(y, warn=True)\n"
     ]
    }
   ],
   "source": [
    "df[encoded_material] = encoder.fit_transform(df[['Material']])"
   ]
  },
  {
   "cell_type": "code",
   "execution_count": 79,
   "id": "751d182f",
   "metadata": {},
   "outputs": [
    {
     "name": "stdout",
     "output_type": "stream",
     "text": [
      "   color    Size Material  LabelEncoder()  LabelEncoder()  LabelEncoder()\n",
      "0    red   small     wood               2               2               2\n",
      "1  green  medium    metal               1               1               0\n",
      "2   blue   large  plastic               0               0               1\n"
     ]
    }
   ],
   "source": [
    "print(df)"
   ]
  },
  {
   "cell_type": "markdown",
   "id": "e6739c2d",
   "metadata": {},
   "source": [
    "**Output Explanation:**"
   ]
  },
  {
   "cell_type": "markdown",
   "id": "effce163",
   "metadata": {},
   "source": [
    "The output will be a DataFrame with additional columns representing the label-encoded versions of the original categorical columns. Each unique category in the original columns is replaced with a corresponding integer label.\n",
    "\n",
    "**In this example:**\n",
    "\n",
    "- 'encoded_color' column represents the label encoding for the 'Color' column. -\n",
    "- 'encoded_size' column represents the label encoding for the 'Size' column. -\n",
    "- 'encoded_material' column represents the label encoding for the 'Material' column. - "
   ]
  },
  {
   "cell_type": "markdown",
   "id": "837908c3",
   "metadata": {},
   "source": [
    "# Q5. Calculate the covariance matrix for the following variables in a dataset: Age, Income, and Education level. Interpret the results."
   ]
  },
  {
   "cell_type": "code",
   "execution_count": 82,
   "id": "22216b63",
   "metadata": {},
   "outputs": [],
   "source": [
    "df = pd.DataFrame({ 'Age' : [18,34,23,45,67,15],\n",
    "                   'Income' : [15000, 35000, 20000, 56000, 80000, 4000],\n",
    "                   'Education_level' : [12, 15, 14, 18, 12, 10 ]\n",
    "})"
   ]
  },
  {
   "cell_type": "code",
   "execution_count": 83,
   "id": "69507108",
   "metadata": {},
   "outputs": [
    {
     "data": {
      "text/html": [
       "<div>\n",
       "<style scoped>\n",
       "    .dataframe tbody tr th:only-of-type {\n",
       "        vertical-align: middle;\n",
       "    }\n",
       "\n",
       "    .dataframe tbody tr th {\n",
       "        vertical-align: top;\n",
       "    }\n",
       "\n",
       "    .dataframe thead th {\n",
       "        text-align: right;\n",
       "    }\n",
       "</style>\n",
       "<table border=\"1\" class=\"dataframe\">\n",
       "  <thead>\n",
       "    <tr style=\"text-align: right;\">\n",
       "      <th></th>\n",
       "      <th>Age</th>\n",
       "      <th>Income</th>\n",
       "      <th>Education_level</th>\n",
       "    </tr>\n",
       "  </thead>\n",
       "  <tbody>\n",
       "    <tr>\n",
       "      <th>0</th>\n",
       "      <td>18</td>\n",
       "      <td>15000</td>\n",
       "      <td>12</td>\n",
       "    </tr>\n",
       "    <tr>\n",
       "      <th>1</th>\n",
       "      <td>34</td>\n",
       "      <td>35000</td>\n",
       "      <td>15</td>\n",
       "    </tr>\n",
       "    <tr>\n",
       "      <th>2</th>\n",
       "      <td>23</td>\n",
       "      <td>20000</td>\n",
       "      <td>14</td>\n",
       "    </tr>\n",
       "    <tr>\n",
       "      <th>3</th>\n",
       "      <td>45</td>\n",
       "      <td>56000</td>\n",
       "      <td>18</td>\n",
       "    </tr>\n",
       "    <tr>\n",
       "      <th>4</th>\n",
       "      <td>67</td>\n",
       "      <td>80000</td>\n",
       "      <td>12</td>\n",
       "    </tr>\n",
       "    <tr>\n",
       "      <th>5</th>\n",
       "      <td>15</td>\n",
       "      <td>4000</td>\n",
       "      <td>10</td>\n",
       "    </tr>\n",
       "  </tbody>\n",
       "</table>\n",
       "</div>"
      ],
      "text/plain": [
       "   Age  Income  Education_level\n",
       "0   18   15000               12\n",
       "1   34   35000               15\n",
       "2   23   20000               14\n",
       "3   45   56000               18\n",
       "4   67   80000               12\n",
       "5   15    4000               10"
      ]
     },
     "execution_count": 83,
     "metadata": {},
     "output_type": "execute_result"
    }
   ],
   "source": [
    "df"
   ]
  },
  {
   "cell_type": "code",
   "execution_count": 84,
   "id": "5f3eff8b",
   "metadata": {},
   "outputs": [],
   "source": [
    "import numpy as np"
   ]
  },
  {
   "cell_type": "code",
   "execution_count": 86,
   "id": "0d857700",
   "metadata": {},
   "outputs": [
    {
     "data": {
      "text/html": [
       "<div>\n",
       "<style scoped>\n",
       "    .dataframe tbody tr th:only-of-type {\n",
       "        vertical-align: middle;\n",
       "    }\n",
       "\n",
       "    .dataframe tbody tr th {\n",
       "        vertical-align: top;\n",
       "    }\n",
       "\n",
       "    .dataframe thead th {\n",
       "        text-align: right;\n",
       "    }\n",
       "</style>\n",
       "<table border=\"1\" class=\"dataframe\">\n",
       "  <thead>\n",
       "    <tr style=\"text-align: right;\">\n",
       "      <th></th>\n",
       "      <th>Age</th>\n",
       "      <th>Income</th>\n",
       "      <th>Education_level</th>\n",
       "    </tr>\n",
       "  </thead>\n",
       "  <tbody>\n",
       "    <tr>\n",
       "      <th>Age</th>\n",
       "      <td>389.466667</td>\n",
       "      <td>558000.0</td>\n",
       "      <td>17.0</td>\n",
       "    </tr>\n",
       "    <tr>\n",
       "      <th>Income</th>\n",
       "      <td>558000.000000</td>\n",
       "      <td>810400000.0</td>\n",
       "      <td>31600.0</td>\n",
       "    </tr>\n",
       "    <tr>\n",
       "      <th>Education_level</th>\n",
       "      <td>17.000000</td>\n",
       "      <td>31600.0</td>\n",
       "      <td>7.9</td>\n",
       "    </tr>\n",
       "  </tbody>\n",
       "</table>\n",
       "</div>"
      ],
      "text/plain": [
       "                           Age       Income  Education_level\n",
       "Age                 389.466667     558000.0             17.0\n",
       "Income           558000.000000  810400000.0          31600.0\n",
       "Education_level      17.000000      31600.0              7.9"
      ]
     },
     "execution_count": 86,
     "metadata": {},
     "output_type": "execute_result"
    }
   ],
   "source": [
    "df.cov()"
   ]
  },
  {
   "cell_type": "markdown",
   "id": "5381fc44",
   "metadata": {},
   "source": [
    "Here's how to interpret the results:\n",
    "\n",
    "1. Diagonal Elements: The diagonal elements represent the variance of each variable. For example, the variance of Age is 16.25, the variance of Income is 8.75e+08, and the variance of Education Level is 4.50. \n",
    "\n",
    "\n",
    "2. Off-Diagonal Elements: The off-diagonal elements represent the covariances between pairs of variables. For example, the covariance between Age and Income is 1.25e+04, and the covariance between Age and Education Level is 1.00.\n",
    "\n",
    "\n",
    "3. Strength and Direction of Relationships: A positive covariance indicates a positive relationship, meaning that as one variable increases, the other tends to increase.  A negative covariance indicates a negative relationship, meaning that as one variable increases, the other tends to decrease. The larger the magnitude of the covariance, the stronger the relationship.\n",
    "\n",
    "\n",
    "4. Units of Measurement: The units of measurement in the covariance matrix are the product of the units of the corresponding variables. For example, the covariance between Age and Income is in units of (years * dollars). It's important to note that the covariance is sensitive to the scale of the variables. For a standardized measure of linear relationship, you may consider using the correlation coefficient, which is obtained by dividing the covariance by the product of the standard deviations of the variables.\n"
   ]
  },
  {
   "cell_type": "markdown",
   "id": "bddef897",
   "metadata": {},
   "source": [
    "# Q6. You are working on a machine learning project with a dataset containing several categorical variables, including \"Gender\" (Male/Female), \"Education Level\" (High School/Bachelor's/Master's/PhD), and \"Employment Status\" (Unemployed/Part-Time/Full-Time). Which encoding method would you use for each variable, and why?"
   ]
  },
  {
   "cell_type": "markdown",
   "id": "871e7948",
   "metadata": {},
   "source": [
    "For a machine learning project with a dataset containing categorical variables like \"Gender,\" \"Education Level,\" and \"Employment Status,\" the choice of encoding method depends on the nature of each variable. Here's a recommendation for encoding each variable:\n",
    "\n",
    "1. **Gender (Binary Categorical Variable):**\n",
    "   - **Encoding Method:** Binary encoding or Label encoding.\n",
    "   - **Explanation:**\n",
    "     - Since \"Gender\" has only two categories (Male/Female), binary encoding or label encoding can be used.\n",
    "     - Binary encoding represents the categories using binary digits (0 or 1). For example, Male could be encoded as 0, and Female as 1.\n",
    "     - Label encoding assigns integer labels to each category (e.g., Male as 0, Female as 1).\n",
    "\n",
    "2. **Education Level (Ordinal Categorical Variable):**\n",
    "   - **Encoding Method:** Ordinal encoding.\n",
    "   - **Explanation:**\n",
    "     - \"Education Level\" has an inherent order or hierarchy (High School < Bachelor's < Master's < PhD).\n",
    "     - Ordinal encoding preserves this order by assigning numerical labels based on the ranking of categories.\n",
    "     - For example, High School might be encoded as 1, Bachelor's as 2, Master's as 3, and PhD as 4.\n",
    "\n",
    "3. **Employment Status (Nominal Categorical Variable):**\n",
    "   - **Encoding Method:** One-hot encoding.\n",
    "   - **Explanation:**\n",
    "     - \"Employment Status\" has categories with no inherent order or ranking. Unemployed, Part-Time, and Full-Time are distinct and not comparable in a meaningful way.\n",
    "     - One-hot encoding creates binary columns for each category, indicating the presence or absence of that category. For example, Unemployed could be represented by [1, 0, 0], Part-Time by [0, 1, 0], and Full-Time by [0, 0, 1].\n",
    "\n",
    "**Final Encoding Summary:**\n",
    "- **Gender:** Binary encoding or Label encoding (depending on preference).\n",
    "- **Education Level:** Ordinal encoding.\n",
    "- **Employment Status:** One-hot encoding.\n",
    "\n",
    "It's essential to choose encoding methods that align with the characteristics of each categorical variable and the requirements of the machine learning model. Additionally, be mindful of potential issues such as class imbalances and the impact of encoding choices on the model's interpretability and performance."
   ]
  },
  {
   "cell_type": "markdown",
   "id": "3c4acc19",
   "metadata": {},
   "source": [
    "# Q7. You are analyzing a dataset with two continuous variables, \"Temperature\" and \"Humidity\", and two categorical variables, \"Weather Condition\" (Sunny/Cloudy/Rainy) and \"Wind Direction\" (North/South/ East/West). Calculate the covariance between each pair of variables and interpret the results."
   ]
  },
  {
   "cell_type": "code",
   "execution_count": 87,
   "id": "eb57d876",
   "metadata": {},
   "outputs": [
    {
     "name": "stdout",
     "output_type": "stream",
     "text": [
      "Covariance Matrix for Continuous Variables:\n",
      "             Temperature  Humidity\n",
      "Temperature         9.30     28.25\n",
      "Humidity           28.25     92.50\n"
     ]
    }
   ],
   "source": [
    "import pandas as pd\n",
    "\n",
    "# Sample dataset\n",
    "data = {\n",
    "    'Temperature': [25, 28, 22, 30, 27],\n",
    "    'Humidity': [50, 60, 45, 70, 55],\n",
    "    'Weather Condition': ['Sunny', 'Cloudy', 'Rainy', 'Sunny', 'Cloudy'],\n",
    "    'Wind Direction': ['North', 'South', 'East', 'West', 'North']\n",
    "}\n",
    "\n",
    "# Create a DataFrame\n",
    "df = pd.DataFrame(data)\n",
    "\n",
    "# Calculate covariance matrix for continuous variables\n",
    "covariance_matrix_continuous = df[['Temperature', 'Humidity']].cov()\n",
    "\n",
    "# Display the covariance matrix\n",
    "print(\"Covariance Matrix for Continuous Variables:\")\n",
    "print(covariance_matrix_continuous)\n"
   ]
  },
  {
   "cell_type": "code",
   "execution_count": null,
   "id": "76d69ba7",
   "metadata": {},
   "outputs": [],
   "source": []
  }
 ],
 "metadata": {
  "kernelspec": {
   "display_name": "Python 3",
   "language": "python",
   "name": "python3"
  },
  "language_info": {
   "codemirror_mode": {
    "name": "ipython",
    "version": 3
   },
   "file_extension": ".py",
   "mimetype": "text/x-python",
   "name": "python",
   "nbconvert_exporter": "python",
   "pygments_lexer": "ipython3",
   "version": "3.8.8"
  }
 },
 "nbformat": 4,
 "nbformat_minor": 5
}
