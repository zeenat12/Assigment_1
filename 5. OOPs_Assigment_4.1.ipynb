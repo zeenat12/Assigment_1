{
 "cells": [
  {
   "cell_type": "markdown",
   "id": "c4204f9e",
   "metadata": {},
   "source": [
    "## Q1. Explain Class and Object with respect to Object-Oriented Programming. Give a suitable example."
   ]
  },
  {
   "cell_type": "markdown",
   "id": "96d2a16c",
   "metadata": {},
   "source": [
    "In object-oriented programming (OOP), a class is a blueprint or a template that defines the structure and behavior of objects. It encapsulates data and the methods (functions) that operate on that data. \n",
    "An object, on the other hand, is an instance of a class, representing a specific entity that conforms to the characteristics defined by the class. Objects are created from classes, and each object can have its own unique data while sharing the same methods defined in the class."
   ]
  },
  {
   "cell_type": "code",
   "execution_count": 2,
   "id": "1cace997",
   "metadata": {},
   "outputs": [],
   "source": [
    "# Example\n",
    "class pw_skills:\n",
    "    def __init__(self, student_id, phone_number, email_id):\n",
    "        self.student_id = student_id\n",
    "        self.phone_number = phone_number\n",
    "        self.email_id = email_id\n",
    "        \n",
    "    def student_details(self):\n",
    "        return self.student_id, self.phone_number, self.email_id"
   ]
  },
  {
   "cell_type": "code",
   "execution_count": 3,
   "id": "27377363",
   "metadata": {},
   "outputs": [],
   "source": [
    "rohan = pw_skills(567, 98877665, 'rohan45@gmail.com')"
   ]
  },
  {
   "cell_type": "code",
   "execution_count": 4,
   "id": "4975ecf3",
   "metadata": {},
   "outputs": [
    {
     "data": {
      "text/plain": [
       "(567, 98877665, 'rohan45@gmail.com')"
      ]
     },
     "execution_count": 4,
     "metadata": {},
     "output_type": "execute_result"
    }
   ],
   "source": [
    "rohan.student_details()"
   ]
  },
  {
   "cell_type": "markdown",
   "id": "42b1847a",
   "metadata": {},
   "source": [
    "## Q.2 Name the four pillars of OOPs."
   ]
  },
  {
   "cell_type": "markdown",
   "id": "b67ca15a",
   "metadata": {},
   "source": [
    "The four pillars of OOPs are the following:\n",
    "    a) encapsulation\n",
    "    b) polymorphism\n",
    "    c) abstraction\n",
    "    d) inheritance"
   ]
  },
  {
   "cell_type": "markdown",
   "id": "89d990e9",
   "metadata": {},
   "source": [
    "## Q.3 Explain why the __init__() function is used. Give a suitable example."
   ]
  },
  {
   "cell_type": "markdown",
   "id": "bb400b2a",
   "metadata": {},
   "source": [
    "The __init__() function is a special method in Python classes and is used to initialize the attributes of an object when it is created. It is also known as the constructor method. When an object is instantiated from a class, the __init__() method is automatically called, allowing us to set up the initial state of the object by providing values for its attributes.\n",
    "\n",
    "The __init__() method takes at least one argument, traditionally named self, which refers to the instance being created. It is a reference to the object itself, and using it, we can set the initial values of the object's attributes. It allows us to define how the object should be created and what initial values its attributes should hold."
   ]
  },
  {
   "cell_type": "code",
   "execution_count": 1,
   "id": "4e73e288",
   "metadata": {},
   "outputs": [],
   "source": [
    "# Example\n",
    "class test:\n",
    "    def __init__(self, name, age):\n",
    "        self.name = name\n",
    "        self.age = age\n",
    "        \n",
    "    def display(self):\n",
    "        return self.name, self.age"
   ]
  },
  {
   "cell_type": "code",
   "execution_count": 3,
   "id": "32e14cdd",
   "metadata": {},
   "outputs": [],
   "source": [
    "a = test('rahul', 20)\n",
    "b = test('isha', 23)"
   ]
  },
  {
   "cell_type": "code",
   "execution_count": 4,
   "id": "81da750a",
   "metadata": {},
   "outputs": [
    {
     "data": {
      "text/plain": [
       "('rahul', 20)"
      ]
     },
     "execution_count": 4,
     "metadata": {},
     "output_type": "execute_result"
    }
   ],
   "source": [
    "a.display()"
   ]
  },
  {
   "cell_type": "code",
   "execution_count": 5,
   "id": "85fcfa04",
   "metadata": {},
   "outputs": [
    {
     "data": {
      "text/plain": [
       "('isha', 23)"
      ]
     },
     "execution_count": 5,
     "metadata": {},
     "output_type": "execute_result"
    }
   ],
   "source": [
    "b.display()"
   ]
  },
  {
   "cell_type": "markdown",
   "id": "3a379cd7",
   "metadata": {},
   "source": [
    "## Q. 4 Why self is used in OOPs?"
   ]
  },
  {
   "cell_type": "markdown",
   "id": "2e5021c5",
   "metadata": {},
   "source": [
    "\n",
    "In object-oriented programming (OOP), self is a convention used as the first parameter in method definitions to refer to the instance of the class (object) on which the method is called. It is not a reserved keyword in Python, but it is a widely accepted convention, and using self is considered good practice.\n",
    "\n",
    "When a method is called on an object, Python automatically passes the instance (object) as the first argument to the method, and this argument is usually named self. By convention, you should always use self as the first parameter in instance methods to explicitly reference the instance and access its attributes and methods within the method.\n",
    "\n",
    "Using self in OOP has the following benefits:\n",
    "\n",
    "Instance-specific access: When an object calls a method, self allows the method to access and modify the object's attributes and invoke other methods specific to that instance.\n",
    "\n",
    "Differentiation among objects: When multiple instances of the same class exist, self ensures that the correct instance is operated upon when a method is called.\n",
    "\n",
    "Code readability: Using self in method definitions improves code readability and makes it clear that the method is an instance method and not a class method."
   ]
  },
  {
   "cell_type": "markdown",
   "id": "6b2f0459",
   "metadata": {},
   "source": [
    "## Q. 5 What is inheritance? Give an example for each type of inheritance."
   ]
  },
  {
   "cell_type": "markdown",
   "id": "d4dd62a5",
   "metadata": {},
   "source": [
    "One of the core concepts in object-oriented programming (OOP) languages is inheritance. It is a mechanism that allows you to create a hierarchy of classes that share a set of properties and methods by deriving a class from another class. Inheritance is the capability of one class to derive or inherit the properties from another class"
   ]
  },
  {
   "cell_type": "code",
   "execution_count": 33,
   "id": "622532f6",
   "metadata": {},
   "outputs": [],
   "source": [
    "class class1:\n",
    "    def test_class1(self):\n",
    "        print('This is my class1')\n",
    "        \n",
    "class class2(class1):\n",
    "    def test_class2(self):\n",
    "        print('This is my class2')\n",
    "        \n",
    "class class3(class2):\n",
    "    def test_class3(self):\n",
    "        print('This is my class3')"
   ]
  },
  {
   "cell_type": "code",
   "execution_count": 34,
   "id": "779d933f",
   "metadata": {},
   "outputs": [
    {
     "name": "stdout",
     "output_type": "stream",
     "text": [
      "This is my class1\n",
      "This is my class2\n",
      "This is my class3\n"
     ]
    }
   ],
   "source": [
    "obj_class3 = class3()\n",
    "obj_class3.test_class1()\n",
    "obj_class3.test_class2()\n",
    "obj_class3.test_class3()"
   ]
  },
  {
   "cell_type": "code",
   "execution_count": 35,
   "id": "1691d3b2",
   "metadata": {},
   "outputs": [
    {
     "name": "stdout",
     "output_type": "stream",
     "text": [
      "This is my class1\n",
      "This is my class2\n"
     ]
    }
   ],
   "source": [
    "obj_class2 = class2()\n",
    "obj_class2.test_class1()\n",
    "obj_class2.test_class2()"
   ]
  },
  {
   "cell_type": "code",
   "execution_count": null,
   "id": "7c9128cc",
   "metadata": {},
   "outputs": [],
   "source": []
  }
 ],
 "metadata": {
  "kernelspec": {
   "display_name": "Python 3",
   "language": "python",
   "name": "python3"
  },
  "language_info": {
   "codemirror_mode": {
    "name": "ipython",
    "version": 3
   },
   "file_extension": ".py",
   "mimetype": "text/x-python",
   "name": "python",
   "nbconvert_exporter": "python",
   "pygments_lexer": "ipython3",
   "version": "3.8.8"
  }
 },
 "nbformat": 4,
 "nbformat_minor": 5
}
