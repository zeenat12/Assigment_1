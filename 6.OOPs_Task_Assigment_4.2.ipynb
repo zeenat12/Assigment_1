{
 "cells": [
  {
   "cell_type": "markdown",
   "id": "df252a86",
   "metadata": {},
   "source": [
    "## Q1, Create a vehicle class with an init method having instance variables as name_of_vehicle, max_speed and average_of_vehicle."
   ]
  },
  {
   "cell_type": "code",
   "execution_count": 51,
   "id": "44d0da94",
   "metadata": {},
   "outputs": [],
   "source": [
    "class vehicle:\n",
    "    def __init__(self, name_of_vehicle, max_speed, average_of_vehicle):\n",
    "        self.name_of_vehicle = name_of_vehicle\n",
    "        self.max_speed = max_speed\n",
    "        self.average_of_vehicle = average_of_vehicle\n",
    "    \n",
    "    def display(self):\n",
    "        return self.name_of_vehicle, self.max_speed, self.average_of_vehicle"
   ]
  },
  {
   "cell_type": "code",
   "execution_count": 16,
   "id": "7952a61b",
   "metadata": {},
   "outputs": [],
   "source": [
    "p1 = vehicle('car', 160, 100)\n",
    "p2 = vehicle('bike', 200, 90)"
   ]
  },
  {
   "cell_type": "code",
   "execution_count": 17,
   "id": "ad605ca2",
   "metadata": {},
   "outputs": [
    {
     "data": {
      "text/plain": [
       "('car', 160, 100)"
      ]
     },
     "execution_count": 17,
     "metadata": {},
     "output_type": "execute_result"
    }
   ],
   "source": [
    "p1.display()"
   ]
  },
  {
   "cell_type": "code",
   "execution_count": 18,
   "id": "1c5cfe50",
   "metadata": {},
   "outputs": [
    {
     "data": {
      "text/plain": [
       "('bike', 200, 90)"
      ]
     },
     "execution_count": 18,
     "metadata": {},
     "output_type": "execute_result"
    }
   ],
   "source": [
    "p2.display()"
   ]
  },
  {
   "cell_type": "markdown",
   "id": "430d2bd8",
   "metadata": {},
   "source": [
    "## Q.2 Create a child class car from the vehicle class created in Que 1, which will inherit the vehicle class. Create a method named seating_capacity which takes capacity as an argument and returns the name of the vehicle and its seating capacity."
   ]
  },
  {
   "cell_type": "code",
   "execution_count": 55,
   "id": "79c3c1d8",
   "metadata": {},
   "outputs": [],
   "source": [
    "class car(vehicle):\n",
    "    pass\n",
    "    \n",
    "    def seating_capacity(self, capacity):\n",
    "        print(f'{self.name_of_vehicle} has seating capacity is {capacity} passengers')\n"
   ]
  },
  {
   "cell_type": "code",
   "execution_count": 59,
   "id": "0406e9dd",
   "metadata": {},
   "outputs": [
    {
     "data": {
      "text/plain": [
       "('Honda civic', 200, 70)"
      ]
     },
     "execution_count": 59,
     "metadata": {},
     "output_type": "execute_result"
    }
   ],
   "source": [
    "c = car('Honda civic', 200, 70 )\n",
    "c.display()"
   ]
  },
  {
   "cell_type": "code",
   "execution_count": 60,
   "id": "0b454192",
   "metadata": {},
   "outputs": [
    {
     "name": "stdout",
     "output_type": "stream",
     "text": [
      "Honda civic has seating capacity is 4 passengers\n"
     ]
    }
   ],
   "source": [
    "c.seating_capacity(4)"
   ]
  },
  {
   "cell_type": "markdown",
   "id": "5800baaf",
   "metadata": {},
   "source": [
    "## Q3. What is multiple inheritance? Write a python code to demonstrate multiple inheritance."
   ]
  },
  {
   "cell_type": "markdown",
   "id": "543cb356",
   "metadata": {},
   "source": [
    "When a class is derived from more than one base class it is called multiple Inheritance. The derived class inherits all the features of the base case"
   ]
  },
  {
   "cell_type": "code",
   "execution_count": 62,
   "id": "0b46e1c5",
   "metadata": {},
   "outputs": [],
   "source": [
    "#Example \n",
    "\n",
    "class arvind:\n",
    "    back = 'oracal DB and Java'\n",
    "    def backend(self):\n",
    "        print('Backend Task implemented using: ', self.back)\n",
    "        \n",
    "class vinod:\n",
    "    front = 'HTML CSS JavaScript'\n",
    "    def frontend(self):\n",
    "        print(f'frontend Task Implemented using: {self.front}')\n",
    "        \n",
    "class Teamlead(arvind, vinod):\n",
    "    def show (self):\n",
    "        print(f'Dynamic website created using ......')"
   ]
  },
  {
   "cell_type": "code",
   "execution_count": 63,
   "id": "07438c67",
   "metadata": {},
   "outputs": [
    {
     "name": "stdout",
     "output_type": "stream",
     "text": [
      "frontend Task Implemented using: HTML CSS JavaScript\n",
      "Backend Task implemented using:  oracal DB and Java\n",
      "Dynamic website created using ......\n"
     ]
    }
   ],
   "source": [
    "a = Teamlead()\n",
    "a.frontend()\n",
    "a.backend()\n",
    "a.show()"
   ]
  },
  {
   "cell_type": "markdown",
   "id": "b421e6e0",
   "metadata": {},
   "source": [
    "## Q4. What are getter and setter in python? Create a class and create a getter and a setter method in this class."
   ]
  },
  {
   "cell_type": "markdown",
   "id": "a046c3fd",
   "metadata": {},
   "source": [
    "Getter: A method that allows you to access an attribute in a given class. \n",
    "Setter: A method that allows you to set or mutate the value of an attribute in a class."
   ]
  },
  {
   "cell_type": "code",
   "execution_count": 30,
   "id": "ba28b220",
   "metadata": {},
   "outputs": [],
   "source": [
    "class bank_account:\n",
    "    def __init__(self, balance):\n",
    "        self.__balance = balance\n",
    "        \n",
    "    def deposite(self, amount):\n",
    "        self.__balance = self.__balance + amount\n",
    "        \n",
    "    def withdraw(self, amount):\n",
    "        if self.__balance >= amount:\n",
    "            self.__balance = self.__balance - amount\n",
    "            return True\n",
    "        else:\n",
    "            return False\n",
    "        \n",
    "    def get_balance(self):\n",
    "        return self.__balance\n"
   ]
  },
  {
   "cell_type": "code",
   "execution_count": 31,
   "id": "944d060b",
   "metadata": {},
   "outputs": [],
   "source": [
    "obj_bank_account = bank_account(1000)"
   ]
  },
  {
   "cell_type": "code",
   "execution_count": 32,
   "id": "b13802ba",
   "metadata": {},
   "outputs": [
    {
     "data": {
      "text/plain": [
       "1000"
      ]
     },
     "execution_count": 32,
     "metadata": {},
     "output_type": "execute_result"
    }
   ],
   "source": [
    "obj_bank_account.get_balance()"
   ]
  },
  {
   "cell_type": "code",
   "execution_count": 33,
   "id": "dae81ebc",
   "metadata": {},
   "outputs": [],
   "source": [
    "obj_bank_account.deposite(1234)"
   ]
  },
  {
   "cell_type": "code",
   "execution_count": 34,
   "id": "4a3a0828",
   "metadata": {},
   "outputs": [
    {
     "data": {
      "text/plain": [
       "2234"
      ]
     },
     "execution_count": 34,
     "metadata": {},
     "output_type": "execute_result"
    }
   ],
   "source": [
    "obj_bank_account.get_balance()"
   ]
  },
  {
   "cell_type": "code",
   "execution_count": 35,
   "id": "b33a1881",
   "metadata": {},
   "outputs": [
    {
     "data": {
      "text/plain": [
       "True"
      ]
     },
     "execution_count": 35,
     "metadata": {},
     "output_type": "execute_result"
    }
   ],
   "source": [
    "obj_bank_account.withdraw(345)"
   ]
  },
  {
   "cell_type": "code",
   "execution_count": 36,
   "id": "f6c30434",
   "metadata": {},
   "outputs": [
    {
     "data": {
      "text/plain": [
       "1889"
      ]
     },
     "execution_count": 36,
     "metadata": {},
     "output_type": "execute_result"
    }
   ],
   "source": [
    "obj_bank_account.get_balance()"
   ]
  },
  {
   "cell_type": "markdown",
   "id": "9fe965b7",
   "metadata": {},
   "source": [
    "## Q5.What is method overriding in python? Write a python code to demonstrate method overriding."
   ]
  },
  {
   "cell_type": "markdown",
   "id": "b36e0705",
   "metadata": {},
   "source": [
    "whenever we writing method name with same signature in parent and child class called method overriding"
   ]
  },
  {
   "cell_type": "code",
   "execution_count": 26,
   "id": "49d3f6aa",
   "metadata": {},
   "outputs": [],
   "source": [
    "class parent():\n",
    "    def __init__(self):\n",
    "        self.value = 'This is my parent class'\n",
    "        \n",
    "    def display(self):\n",
    "        return self.value\n",
    "\n",
    "class child(parent):\n",
    "    def __init__(self):\n",
    "        self.value = 'This is my child class'\n",
    "        super().__init__()\n",
    "\n",
    "    def display(self):\n",
    "        parent_value = super().display()  # Call parent class display method\n",
    "        return f\"{parent_value} \\n{self.value}\"  # Return both parent and child values\n",
    "\n"
   ]
  },
  {
   "cell_type": "code",
   "execution_count": 27,
   "id": "a676b701",
   "metadata": {},
   "outputs": [
    {
     "name": "stdout",
     "output_type": "stream",
     "text": [
      "This is my parent class \n",
      "This is my parent class\n"
     ]
    }
   ],
   "source": [
    "a = child()\n",
    "result = a.display()\n",
    "print(result)"
   ]
  },
  {
   "cell_type": "code",
   "execution_count": null,
   "id": "59bfb5cc",
   "metadata": {},
   "outputs": [],
   "source": []
  }
 ],
 "metadata": {
  "kernelspec": {
   "display_name": "Python 3",
   "language": "python",
   "name": "python3"
  },
  "language_info": {
   "codemirror_mode": {
    "name": "ipython",
    "version": 3
   },
   "file_extension": ".py",
   "mimetype": "text/x-python",
   "name": "python",
   "nbconvert_exporter": "python",
   "pygments_lexer": "ipython3",
   "version": "3.8.8"
  }
 },
 "nbformat": 4,
 "nbformat_minor": 5
}
