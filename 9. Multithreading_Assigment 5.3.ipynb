{
 "cells": [
  {
   "cell_type": "markdown",
   "id": "94ec8341",
   "metadata": {},
   "source": [
    "## Q.1 What is multithreading in python? why is it used? Name the module used to handle threads in python."
   ]
  },
  {
   "cell_type": "markdown",
   "id": "36dcf34e",
   "metadata": {},
   "source": [
    "Multithreading is a technique which allows a CPU to execute multiple thread of one process at the same time.\n",
    "the process of multithreading is used to run multiple task and function at the same time.\n",
    "In Python, the module used to handle threads is called the \"threading\" module."
   ]
  },
  {
   "cell_type": "markdown",
   "id": "172608bf",
   "metadata": {},
   "source": [
    "## Q.2 Why threading module used? write the use of the following functions\n",
    "### (i) activeCount()\n",
    "### (ii) currentThread()\n",
    "### (iv) enumerate()"
   ]
  },
  {
   "cell_type": "markdown",
   "id": "aca96838",
   "metadata": {},
   "source": [
    "The thread module in Python is used to create and manage threads, enabling concurrent execution of tasks within a single process. Threads allow for improved performance, responsive user interfaces, parallelism, and efficient resource utilization. They're useful for tasks that can be executed concurrently, sharing memory space and enabling easy data sharing between threads. However, the thread module is considered lower-level, and the threading module is often preferred due to its higher-level interface and better management of thread-related complexities.\n"
   ]
  },
  {
   "cell_type": "markdown",
   "id": "d7e91691",
   "metadata": {},
   "source": [
    "**(i) threading.activeCount() − Returns the number of thread objects that are active.\n",
    "(ii) threading.currentThread() − Returns the number of thread objects in the caller's thread control.\n",
    "(iii) threading.enumerate() − Returns a list of all thread objects that are currently active."
   ]
  },
  {
   "cell_type": "markdown",
   "id": "4e25d504",
   "metadata": {},
   "source": [
    "## Q.3 Explain the following functions\n",
    "### (i) run()\n",
    "### (ii) start()\n",
    "### (iii) join()\n",
    "### (iv) isAlive()"
   ]
  },
  {
   "cell_type": "markdown",
   "id": "b77b62f5",
   "metadata": {},
   "source": [
    "run()  − The run() method is the entry point for a thread.\n",
    "start()  − The start() method starts a thread by calling the run method.\n",
    "join()  − The join() waits for threads to terminate.\n",
    "isAlive()  − The isAlive() method checks whether a thread is still executing."
   ]
  },
  {
   "cell_type": "markdown",
   "id": "7148deda",
   "metadata": {},
   "source": [
    "## Q.4 write a python program to create two threads. Thread one must print the list of squares and thread  two must print the list of cubes"
   ]
  },
  {
   "cell_type": "code",
   "execution_count": 12,
   "id": "8715a731",
   "metadata": {},
   "outputs": [
    {
     "name": "stdout",
     "output_type": "stream",
     "text": [
      "List of Squares: [1, 4, 9, 16, 25]\n",
      "List of Cubes: [1, 8, 27, 64, 125]\n",
      "Both threads have finished.\n"
     ]
    }
   ],
   "source": [
    "import threading\n",
    "\n",
    "def calculate_squares(numbers):\n",
    "    squares = [num ** 2 for num in numbers]\n",
    "    print(\"List of Squares:\", squares)\n",
    "\n",
    "def calculate_cubes(numbers):\n",
    "    cubes = [num ** 3 for num in numbers]\n",
    "    print(\"List of Cubes:\", cubes)\n",
    "\n",
    "def main():\n",
    "    numbers = [1, 2, 3, 4, 5]\n",
    "\n",
    "    thread1 = threading.Thread(target=calculate_squares, args=(numbers,))\n",
    "    thread2 = threading.Thread(target=calculate_cubes, args=(numbers,))\n",
    "\n",
    "    thread1.start()\n",
    "    thread2.start()\n",
    "\n",
    "    thread1.join()\n",
    "    thread2.join()\n",
    "\n",
    "    print(\"Both threads have finished.\")\n",
    "\n",
    "if __name__ == \"__main__\":\n",
    "    main()"
   ]
  },
  {
   "cell_type": "markdown",
   "id": "bb243e01",
   "metadata": {},
   "source": [
    "## Q.5 State advantages and disadvantages of multithreading"
   ]
  },
  {
   "cell_type": "markdown",
   "id": "af9f5e47",
   "metadata": {},
   "source": [
    "Following are the advantages of multithreading:\n",
    "\n",
    "1) Enhanced performance by decreased development time\n",
    "2) Simplified and streamlined program coding\n",
    "3) Improvised GUI responsiveness\n",
    "4) Simultaneous and parallelized occurrence of tasks\n",
    "5) Better use of cache storage by utilization of resources\n",
    "6) Decreased cost of maintenance\n",
    "7) Better use of CPU resource\n",
    "\n",
    "Following are the disadvantages of multithreading:\n",
    "\n",
    "1) Complex debugging and testing processes\n",
    "2) Overhead switching of context\n",
    "3) Increased potential for deadlock occurrence\n",
    "4) Increased difficulty level in writing a program\n",
    "5) Unpredictable results"
   ]
  },
  {
   "cell_type": "markdown",
   "id": "472e607c",
   "metadata": {},
   "source": [
    "## Q.6. Explain deadlocks and race conditions."
   ]
  },
  {
   "cell_type": "markdown",
   "id": "d62b8421",
   "metadata": {},
   "source": [
    "A race condition occurs when two threads use the same variable at a given time. \n",
    "Deadlock exists when two threads seek one lock simultaneously. This situation will stop both threads from processing or executing the functions."
   ]
  }
 ],
 "metadata": {
  "kernelspec": {
   "display_name": "Python 3",
   "language": "python",
   "name": "python3"
  },
  "language_info": {
   "codemirror_mode": {
    "name": "ipython",
    "version": 3
   },
   "file_extension": ".py",
   "mimetype": "text/x-python",
   "name": "python",
   "nbconvert_exporter": "python",
   "pygments_lexer": "ipython3",
   "version": "3.8.8"
  }
 },
 "nbformat": 4,
 "nbformat_minor": 5
}
