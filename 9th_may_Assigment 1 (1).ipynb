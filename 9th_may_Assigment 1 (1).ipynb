{
 "cells": [
  {
   "cell_type": "markdown",
   "id": "c5cf0bed",
   "metadata": {},
   "source": [
    "Q.1 Create one variable containing following type of data\n",
    "(i)    string\n",
    "\n",
    "(ii)\tlist\n",
    "\n",
    "(iii)\tfloat\n",
    "\n",
    "(iv)\ttuple"
   ]
  },
  {
   "cell_type": "code",
   "execution_count": 81,
   "id": "8daeaa55",
   "metadata": {},
   "outputs": [
    {
     "name": "stdout",
     "output_type": "stream",
     "text": [
      "Red\n"
     ]
    }
   ],
   "source": [
    "#(i) string\n",
    "str1 = 'Red'\n",
    "print(str1)"
   ]
  },
  {
   "cell_type": "code",
   "execution_count": 82,
   "id": "61548398",
   "metadata": {},
   "outputs": [
    {
     "name": "stdout",
     "output_type": "stream",
     "text": [
      "[1, 2, 5.6, 'PW skills']\n"
     ]
    }
   ],
   "source": [
    "#(ii) list\n",
    "lst = [1, 2, 5.6, 'PW skills']\n",
    "print(lst)"
   ]
  },
  {
   "cell_type": "code",
   "execution_count": 83,
   "id": "0063f15b",
   "metadata": {},
   "outputs": [
    {
     "name": "stdout",
     "output_type": "stream",
     "text": [
      "75.6\n"
     ]
    }
   ],
   "source": [
    "#(iii) float\n",
    "x = 75.6\n",
    "print(x)"
   ]
  },
  {
   "cell_type": "code",
   "execution_count": 84,
   "id": "53cf606f",
   "metadata": {},
   "outputs": [
    {
     "name": "stdout",
     "output_type": "stream",
     "text": [
      "('physics', 'chemistry', 1999, 2000)\n"
     ]
    }
   ],
   "source": [
    "#(iv) tuple\n",
    "tup1 = ('physics', 'chemistry', 1999, 2000)\n",
    "print(tup1)"
   ]
  },
  {
   "cell_type": "markdown",
   "id": "eb77a001",
   "metadata": {},
   "source": [
    "Q2. Given are some following variables containing data:\n",
    "\n",
    "(i)\tvar1 = ‘ ‘\n",
    "\n",
    "(ii)\tvar2 = ‘[ DS , ML , Python]’\n",
    "\n",
    "(iii)\tvar3 = [ ‘DS’ , ’ML’ , ‘Python’ ]\n",
    "\n",
    "(iv)\tvar4 = 1\n",
    "\n",
    "What will be the data type of the above given variable."
   ]
  },
  {
   "cell_type": "code",
   "execution_count": 2,
   "id": "2b895bae",
   "metadata": {},
   "outputs": [],
   "source": [
    "#(i)\n",
    "var1 = ''"
   ]
  },
  {
   "cell_type": "code",
   "execution_count": 6,
   "id": "7530b5c3",
   "metadata": {},
   "outputs": [
    {
     "data": {
      "text/plain": [
       "str"
      ]
     },
     "execution_count": 6,
     "metadata": {},
     "output_type": "execute_result"
    }
   ],
   "source": [
    "type(var1)"
   ]
  },
  {
   "cell_type": "code",
   "execution_count": 1,
   "id": "7d62ffcf",
   "metadata": {},
   "outputs": [],
   "source": [
    "#(ii)\n",
    "var2='[DS, ML, Python]'"
   ]
  },
  {
   "cell_type": "code",
   "execution_count": 8,
   "id": "8da087da",
   "metadata": {},
   "outputs": [
    {
     "data": {
      "text/plain": [
       "str"
      ]
     },
     "execution_count": 8,
     "metadata": {},
     "output_type": "execute_result"
    }
   ],
   "source": [
    "type(var2)"
   ]
  },
  {
   "cell_type": "code",
   "execution_count": 10,
   "id": "e5e0dd11",
   "metadata": {},
   "outputs": [],
   "source": [
    "#(iii)\n",
    "var3 = ['DS', 'ML', 'Python']"
   ]
  },
  {
   "cell_type": "code",
   "execution_count": 13,
   "id": "76bf93c8",
   "metadata": {},
   "outputs": [
    {
     "data": {
      "text/plain": [
       "list"
      ]
     },
     "execution_count": 13,
     "metadata": {},
     "output_type": "execute_result"
    }
   ],
   "source": [
    "type(var3)"
   ]
  },
  {
   "cell_type": "code",
   "execution_count": 14,
   "id": "c4320b2b",
   "metadata": {},
   "outputs": [],
   "source": [
    "#(iv)\n",
    "var4 = 1"
   ]
  },
  {
   "cell_type": "code",
   "execution_count": 15,
   "id": "2e5a80d3",
   "metadata": {},
   "outputs": [
    {
     "data": {
      "text/plain": [
       "int"
      ]
     },
     "execution_count": 15,
     "metadata": {},
     "output_type": "execute_result"
    }
   ],
   "source": [
    "type(var4)"
   ]
  },
  {
   "cell_type": "markdown",
   "id": "86f45a28",
   "metadata": {},
   "source": [
    "Q3. Explain the use of the following operators using an example:\n",
    "\n",
    "(i)\t/\n",
    "\n",
    "(ii)\t% \n",
    "\n",
    "(iii)\t//\n",
    "\n",
    "(iv)\t**"
   ]
  },
  {
   "cell_type": "markdown",
   "id": "249bab19",
   "metadata": {},
   "source": [
    "### Arithmetic Operators\n",
    "(i)\n",
    "\n",
    "|Operators|Meaning|\n",
    "|-|-|\n",
    "|**\\** | Division operator to divide left hand operator by right handed operator."
   ]
  },
  {
   "cell_type": "code",
   "execution_count": 13,
   "id": "840fb651",
   "metadata": {},
   "outputs": [
    {
     "name": "stdout",
     "output_type": "stream",
     "text": [
      "30\n"
     ]
    }
   ],
   "source": [
    "#Example\n",
    "x = 90\n",
    "y = 3\n",
    "z = x/y\n",
    "print(int(z))"
   ]
  },
  {
   "cell_type": "markdown",
   "id": "1a450364",
   "metadata": {},
   "source": [
    "(ii)\n",
    "\n",
    "|Operators|Meaning|\n",
    "|-|-|\n",
    "|**%** | Modulus operator to find remainder."
   ]
  },
  {
   "cell_type": "code",
   "execution_count": 8,
   "id": "61770d71",
   "metadata": {},
   "outputs": [
    {
     "name": "stdout",
     "output_type": "stream",
     "text": [
      "0\n"
     ]
    }
   ],
   "source": [
    "#Example\n",
    "x = 90\n",
    "y = 3\n",
    "z = x%y\n",
    "print(int(z))"
   ]
  },
  {
   "cell_type": "markdown",
   "id": "8cf17899",
   "metadata": {},
   "source": [
    "(iii)\n",
    "\n",
    "|Operators|Meaning|\n",
    "|-|-|\n",
    "|**//** | Floor division operator to find the quotient and remove the fractional."
   ]
  },
  {
   "cell_type": "code",
   "execution_count": 9,
   "id": "941462f7",
   "metadata": {},
   "outputs": [
    {
     "name": "stdout",
     "output_type": "stream",
     "text": [
      "30\n"
     ]
    }
   ],
   "source": [
    "#Example\n",
    "x = 90\n",
    "y = 3\n",
    "z = x//y\n",
    "print(int(z))"
   ]
  },
  {
   "cell_type": "markdown",
   "id": "239addba",
   "metadata": {},
   "source": [
    "(iv)\n",
    "\n",
    "|Operators|Meaning|\n",
    "|-|-|\n",
    "|** | Exponential operator to calculate power.\n"
   ]
  },
  {
   "cell_type": "code",
   "execution_count": 10,
   "id": "e1084dd0",
   "metadata": {},
   "outputs": [
    {
     "name": "stdout",
     "output_type": "stream",
     "text": [
      "729000\n"
     ]
    }
   ],
   "source": [
    "#Example\n",
    "x = 90\n",
    "y = 3\n",
    "z = x**y\n",
    "print(int(z))"
   ]
  },
  {
   "cell_type": "markdown",
   "id": "67f97e8b",
   "metadata": {},
   "source": [
    "Q4. Create a list of length 10 of your choice containing multiple types of data. Using for loop print the \n",
    "element and its data type."
   ]
  },
  {
   "cell_type": "code",
   "execution_count": 19,
   "id": "51d955b7",
   "metadata": {},
   "outputs": [],
   "source": [
    "lst1 = [23, 56, 78.67, 'red', 'blue', 45, 678, 34,78, 'purple']"
   ]
  },
  {
   "cell_type": "code",
   "execution_count": 17,
   "id": "ffac2f52",
   "metadata": {},
   "outputs": [
    {
     "data": {
      "text/plain": [
       "10"
      ]
     },
     "execution_count": 17,
     "metadata": {},
     "output_type": "execute_result"
    }
   ],
   "source": [
    "len(lst1)"
   ]
  },
  {
   "cell_type": "code",
   "execution_count": 80,
   "id": "f93964fb",
   "metadata": {},
   "outputs": [
    {
     "name": "stdout",
     "output_type": "stream",
     "text": [
      "23 <class 'int'>\n",
      "56 <class 'int'>\n",
      "78.67 <class 'float'>\n",
      "red <class 'str'>\n",
      "blue <class 'str'>\n",
      "45 <class 'int'>\n",
      "678 <class 'int'>\n",
      "34 <class 'int'>\n",
      "78 <class 'int'>\n",
      "purple <class 'str'>\n"
     ]
    }
   ],
   "source": [
    "for x in lst1:\n",
    "    print(x, type(x))"
   ]
  },
  {
   "cell_type": "markdown",
   "id": "312815cd",
   "metadata": {},
   "source": [
    "Q5. Using a while loop, verify if the number A is purely divisible by number B and if so then how many \n",
    "times it can be divisible."
   ]
  },
  {
   "cell_type": "code",
   "execution_count": 46,
   "id": "6a64f155",
   "metadata": {},
   "outputs": [],
   "source": [
    "def count_divisions(a, b):\n",
    "    count = 0\n",
    "    while a % b == 0:\n",
    "        a /= b\n",
    "        count += 1\n",
    "    return count"
   ]
  },
  {
   "cell_type": "code",
   "execution_count": 47,
   "id": "3a5e7c4f",
   "metadata": {},
   "outputs": [
    {
     "name": "stdout",
     "output_type": "stream",
     "text": [
      "120 is divisible by 5 and can be divided 1 times.\n"
     ]
    }
   ],
   "source": [
    "number_a = 120\n",
    "number_b = 5\n",
    "\n",
    "divisions = count_divisions(number_a, number_b)\n",
    "\n",
    "if divisions > 0:\n",
    "    print(f'{number_a} is divisible by {number_b} and can be divided {divisions} times.')\n",
    "else:\n",
    "    print(f'{number_a} is not divisible by {number_b}.')"
   ]
  },
  {
   "cell_type": "markdown",
   "id": "f2cc8c73",
   "metadata": {},
   "source": [
    "Q.6 Create a list containing 25 int type data. Using for loop and if-else condition print if the element is \n",
    "divisible by 3 or not."
   ]
  },
  {
   "cell_type": "code",
   "execution_count": 31,
   "id": "886fff64",
   "metadata": {},
   "outputs": [],
   "source": [
    "lst2 = [2, 3, 8, 10, 12, 16, 18, 20, 21, 24, 25, 27, 30, 32, 35, 37, 39, 40, 45, 49, 50, 51, 52, 58, 60]"
   ]
  },
  {
   "cell_type": "code",
   "execution_count": 27,
   "id": "38943fcd",
   "metadata": {},
   "outputs": [
    {
     "data": {
      "text/plain": [
       "25"
      ]
     },
     "execution_count": 27,
     "metadata": {},
     "output_type": "execute_result"
    }
   ],
   "source": [
    "len(lst2)"
   ]
  },
  {
   "cell_type": "code",
   "execution_count": 34,
   "id": "3a76a9de",
   "metadata": {},
   "outputs": [
    {
     "name": "stdout",
     "output_type": "stream",
     "text": [
      "Not divisible by 3\n",
      "Divisible by 3\n",
      "Not divisible by 3\n",
      "Not divisible by 3\n",
      "Divisible by 3\n",
      "Not divisible by 3\n",
      "Divisible by 3\n",
      "Not divisible by 3\n",
      "Divisible by 3\n",
      "Divisible by 3\n",
      "Not divisible by 3\n",
      "Divisible by 3\n",
      "Divisible by 3\n",
      "Not divisible by 3\n",
      "Not divisible by 3\n",
      "Not divisible by 3\n",
      "Divisible by 3\n",
      "Not divisible by 3\n",
      "Divisible by 3\n",
      "Not divisible by 3\n",
      "Not divisible by 3\n",
      "Divisible by 3\n",
      "Not divisible by 3\n",
      "Not divisible by 3\n",
      "Divisible by 3\n"
     ]
    }
   ],
   "source": [
    "for x in lst2:\n",
    "    if x%3==0:\n",
    "        print('Divisible by 3')\n",
    "    else:\n",
    "        print('Not divisible by 3')"
   ]
  },
  {
   "cell_type": "markdown",
   "id": "fac45b85",
   "metadata": {},
   "source": [
    "Q7. What do you understand about mutable and immutable data types? Give examples for both showing \n",
    "this property."
   ]
  },
  {
   "cell_type": "markdown",
   "id": "74b3aa76",
   "metadata": {},
   "source": [
    "### Mutable objects are those that allow to change their value or data in place without affecting the object’s identity.\n",
    "### In contrast, immutable objects don’t allow this kind of operation. It's just have the option of creating new objects of the same type with different values."
   ]
  },
  {
   "cell_type": "code",
   "execution_count": 58,
   "id": "2144ed3f",
   "metadata": {},
   "outputs": [],
   "source": [
    "# Mutable object\n",
    "# Example 1"
   ]
  },
  {
   "cell_type": "code",
   "execution_count": 59,
   "id": "54b1ff21",
   "metadata": {},
   "outputs": [],
   "source": [
    "lst=[23, 56, 789, 'red', 'yellow']"
   ]
  },
  {
   "cell_type": "code",
   "execution_count": 60,
   "id": "bbd5f50f",
   "metadata": {},
   "outputs": [
    {
     "data": {
      "text/plain": [
       "list"
      ]
     },
     "execution_count": 60,
     "metadata": {},
     "output_type": "execute_result"
    }
   ],
   "source": [
    "type(lst)"
   ]
  },
  {
   "cell_type": "code",
   "execution_count": 61,
   "id": "f0446c87",
   "metadata": {},
   "outputs": [],
   "source": [
    "lst[3] = 567"
   ]
  },
  {
   "cell_type": "code",
   "execution_count": 62,
   "id": "1ae2e70f",
   "metadata": {},
   "outputs": [
    {
     "data": {
      "text/plain": [
       "[23, 56, 789, 567, 'yellow']"
      ]
     },
     "execution_count": 62,
     "metadata": {},
     "output_type": "execute_result"
    }
   ],
   "source": [
    "lst"
   ]
  },
  {
   "cell_type": "code",
   "execution_count": 63,
   "id": "7b15237e",
   "metadata": {},
   "outputs": [],
   "source": [
    "# Mutable object\n",
    "# Example 2"
   ]
  },
  {
   "cell_type": "code",
   "execution_count": 64,
   "id": "c5075cdb",
   "metadata": {},
   "outputs": [],
   "source": [
    "my_dict = {'Name': 'Ramesh', 'age': 21, 'class': 'T.Y.Bsc'}"
   ]
  },
  {
   "cell_type": "code",
   "execution_count": 65,
   "id": "9aa1fa9e",
   "metadata": {},
   "outputs": [
    {
     "data": {
      "text/plain": [
       "dict"
      ]
     },
     "execution_count": 65,
     "metadata": {},
     "output_type": "execute_result"
    }
   ],
   "source": [
    "type(my_dict)"
   ]
  },
  {
   "cell_type": "code",
   "execution_count": 66,
   "id": "d949b54f",
   "metadata": {},
   "outputs": [],
   "source": [
    "my_dict['age'] = 23"
   ]
  },
  {
   "cell_type": "code",
   "execution_count": 57,
   "id": "543aad49",
   "metadata": {},
   "outputs": [
    {
     "data": {
      "text/plain": [
       "{'Name': 'Ramesh', 'age': 23, 'class': 'T.Y.Bsc'}"
      ]
     },
     "execution_count": 57,
     "metadata": {},
     "output_type": "execute_result"
    }
   ],
   "source": [
    "my_dict"
   ]
  },
  {
   "cell_type": "code",
   "execution_count": 67,
   "id": "85eacc24",
   "metadata": {},
   "outputs": [],
   "source": [
    "# Immutable object\n",
    "# Example 3"
   ]
  },
  {
   "cell_type": "code",
   "execution_count": 68,
   "id": "07897b15",
   "metadata": {},
   "outputs": [],
   "source": [
    "my_str = 'Hello World'"
   ]
  },
  {
   "cell_type": "code",
   "execution_count": 69,
   "id": "fe712da1",
   "metadata": {},
   "outputs": [
    {
     "data": {
      "text/plain": [
       "str"
      ]
     },
     "execution_count": 69,
     "metadata": {},
     "output_type": "execute_result"
    }
   ],
   "source": [
    "type(my_str)"
   ]
  },
  {
   "cell_type": "code",
   "execution_count": 71,
   "id": "3096b9fb",
   "metadata": {},
   "outputs": [
    {
     "ename": "TypeError",
     "evalue": "'str' object does not support item assignment",
     "output_type": "error",
     "traceback": [
      "\u001b[1;31m---------------------------------------------------------------------------\u001b[0m",
      "\u001b[1;31mTypeError\u001b[0m                                 Traceback (most recent call last)",
      "\u001b[1;32m<ipython-input-71-2a77f00635fd>\u001b[0m in \u001b[0;36m<module>\u001b[1;34m\u001b[0m\n\u001b[1;32m----> 1\u001b[1;33m \u001b[0mmy_str\u001b[0m\u001b[1;33m[\u001b[0m\u001b[1;36m3\u001b[0m\u001b[1;33m]\u001b[0m \u001b[1;33m=\u001b[0m \u001b[1;34m'r'\u001b[0m\u001b[1;33m\u001b[0m\u001b[1;33m\u001b[0m\u001b[0m\n\u001b[0m",
      "\u001b[1;31mTypeError\u001b[0m: 'str' object does not support item assignment"
     ]
    }
   ],
   "source": [
    "my_str[3] = 'r'"
   ]
  },
  {
   "cell_type": "code",
   "execution_count": 76,
   "id": "61afabcf",
   "metadata": {},
   "outputs": [],
   "source": [
    "# Immutable object\n",
    "# Example 4"
   ]
  },
  {
   "cell_type": "code",
   "execution_count": 77,
   "id": "b5dddc87",
   "metadata": {},
   "outputs": [],
   "source": [
    "tup1 = (12, 23.56, 'abc', 'xyz')"
   ]
  },
  {
   "cell_type": "code",
   "execution_count": 78,
   "id": "3c13450a",
   "metadata": {},
   "outputs": [
    {
     "data": {
      "text/plain": [
       "tuple"
      ]
     },
     "execution_count": 78,
     "metadata": {},
     "output_type": "execute_result"
    }
   ],
   "source": [
    "type(tup1)"
   ]
  },
  {
   "cell_type": "code",
   "execution_count": 79,
   "id": "0865fcb6",
   "metadata": {},
   "outputs": [
    {
     "ename": "TypeError",
     "evalue": "'tuple' object does not support item assignment",
     "output_type": "error",
     "traceback": [
      "\u001b[1;31m---------------------------------------------------------------------------\u001b[0m",
      "\u001b[1;31mTypeError\u001b[0m                                 Traceback (most recent call last)",
      "\u001b[1;32m<ipython-input-79-1eb0eef701b9>\u001b[0m in \u001b[0;36m<module>\u001b[1;34m\u001b[0m\n\u001b[1;32m----> 1\u001b[1;33m \u001b[0mtup1\u001b[0m\u001b[1;33m[\u001b[0m\u001b[1;36m2\u001b[0m\u001b[1;33m]\u001b[0m\u001b[1;33m=\u001b[0m \u001b[1;36m100\u001b[0m\u001b[1;33m\u001b[0m\u001b[1;33m\u001b[0m\u001b[0m\n\u001b[0m",
      "\u001b[1;31mTypeError\u001b[0m: 'tuple' object does not support item assignment"
     ]
    }
   ],
   "source": [
    "tup1[2] = 100"
   ]
  }
 ],
 "metadata": {
  "kernelspec": {
   "display_name": "Python 3",
   "language": "python",
   "name": "python3"
  },
  "language_info": {
   "codemirror_mode": {
    "name": "ipython",
    "version": 3
   },
   "file_extension": ".py",
   "mimetype": "text/x-python",
   "name": "python",
   "nbconvert_exporter": "python",
   "pygments_lexer": "ipython3",
   "version": "3.8.8"
  }
 },
 "nbformat": 4,
 "nbformat_minor": 5
}
