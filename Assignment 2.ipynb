{
 "cells": [
  {
   "cell_type": "markdown",
   "id": "b3f33854",
   "metadata": {},
   "source": [
    "### Q.1 How do you comment code in Python? What are the different types of comments?"
   ]
  },
  {
   "cell_type": "markdown",
   "id": "574f9462",
   "metadata": {},
   "source": [
    "Comments in Python are identified with a hash symbol, #, and extend to the end of the line. Hash characters in a string are not considered comments, however. \n",
    "There are three types of comments in Python:\n",
    "\n",
    "Single line Comments\n",
    "Multiline Comments\n",
    "Docstring Comments"
   ]
  },
  {
   "cell_type": "code",
   "execution_count": 2,
   "id": "e67b40c9",
   "metadata": {},
   "outputs": [
    {
     "name": "stdout",
     "output_type": "stream",
     "text": [
      "single line comment\n"
     ]
    }
   ],
   "source": [
    "# Exapmple of single line comment\n",
    "print('single line comment')"
   ]
  },
  {
   "cell_type": "code",
   "execution_count": 3,
   "id": "5e6d3790",
   "metadata": {},
   "outputs": [
    {
     "name": "stdout",
     "output_type": "stream",
     "text": [
      "multiline comment\n"
     ]
    }
   ],
   "source": [
    "# Example of multiline commen\n",
    "# my name is zeenat\n",
    "print('multiline comment')"
   ]
  },
  {
   "cell_type": "code",
   "execution_count": 10,
   "id": "aa40e91f",
   "metadata": {},
   "outputs": [
    {
     "name": "stdout",
     "output_type": "stream",
     "text": [
      "triple quots is used for docstring comment\n"
     ]
    }
   ],
   "source": [
    "\"\"\"A doctstring example\"\"\"\n",
    "print('triple quots is used for docstring comment')"
   ]
  },
  {
   "cell_type": "markdown",
   "id": "cea0e96e",
   "metadata": {},
   "source": [
    "### Q.2. What are variables in Python? How do you declare and assign values to variables?"
   ]
  },
  {
   "cell_type": "markdown",
   "id": "214492ca",
   "metadata": {},
   "source": [
    "A varaiable associates a name with a value that may change. In python varaible names are case sensitive.\n",
    "In python, varaible do not need declaration to reserve memory space. The 'Varaible declaration' happens autometically when we assign a value to a varaible."
   ]
  },
  {
   "cell_type": "markdown",
   "id": "7f545966",
   "metadata": {},
   "source": [
    "Varaible receive their intial values and can be reset to new value with an assigment statement."
   ]
  },
  {
   "cell_type": "markdown",
   "id": "8a9354f8",
   "metadata": {},
   "source": [
    "Syntax:\n",
    "<varaible name> = Expression\n",
    "    Where: (1) The equal sign is know as Assigment operator.\n",
    "           (2) An expression is any value, text or arithmetic expression.\n",
    "The value of the expression will be stored in the varaible."
   ]
  },
  {
   "cell_type": "code",
   "execution_count": 15,
   "id": "8749e650",
   "metadata": {},
   "outputs": [],
   "source": [
    "# Example\n",
    "Name = 'Aditi'\n",
    "Marks = 78\n",
    "Price = 300.67"
   ]
  },
  {
   "cell_type": "code",
   "execution_count": 18,
   "id": "134ca67c",
   "metadata": {},
   "outputs": [],
   "source": [
    "a = 10 # We can assign one varaible into another varaible"
   ]
  },
  {
   "cell_type": "code",
   "execution_count": 19,
   "id": "21bf34a3",
   "metadata": {},
   "outputs": [
    {
     "data": {
      "text/plain": [
       "10"
      ]
     },
     "execution_count": 19,
     "metadata": {},
     "output_type": "execute_result"
    }
   ],
   "source": [
    "a"
   ]
  },
  {
   "cell_type": "code",
   "execution_count": 20,
   "id": "41f62995",
   "metadata": {},
   "outputs": [
    {
     "data": {
      "text/plain": [
       "10"
      ]
     },
     "execution_count": 20,
     "metadata": {},
     "output_type": "execute_result"
    }
   ],
   "source": [
    "b = a\n",
    "b"
   ]
  },
  {
   "cell_type": "code",
   "execution_count": 21,
   "id": "2db8e557",
   "metadata": {},
   "outputs": [],
   "source": [
    "x, y, z = 'Shuham', 145, 67.90    # We can assign mpre than one varaible at a time"
   ]
  },
  {
   "cell_type": "code",
   "execution_count": 22,
   "id": "52a7b1fe",
   "metadata": {},
   "outputs": [
    {
     "data": {
      "text/plain": [
       "'Shuham'"
      ]
     },
     "execution_count": 22,
     "metadata": {},
     "output_type": "execute_result"
    }
   ],
   "source": [
    "x"
   ]
  },
  {
   "cell_type": "code",
   "execution_count": 23,
   "id": "dc5c2c91",
   "metadata": {},
   "outputs": [
    {
     "data": {
      "text/plain": [
       "145"
      ]
     },
     "execution_count": 23,
     "metadata": {},
     "output_type": "execute_result"
    }
   ],
   "source": [
    "y"
   ]
  },
  {
   "cell_type": "code",
   "execution_count": 24,
   "id": "3fe7b8b6",
   "metadata": {},
   "outputs": [
    {
     "data": {
      "text/plain": [
       "67.9"
      ]
     },
     "execution_count": 24,
     "metadata": {},
     "output_type": "execute_result"
    }
   ],
   "source": [
    "z"
   ]
  },
  {
   "cell_type": "markdown",
   "id": "618ab8f4",
   "metadata": {},
   "source": [
    "### Q.3. How do you convert one data type to another in Python?"
   ]
  },
  {
   "cell_type": "markdown",
   "id": "d593dbc8",
   "metadata": {},
   "source": [
    " To convert one data type to another, we simply use the type name as a function."
   ]
  },
  {
   "cell_type": "code",
   "execution_count": 45,
   "id": "ca040121",
   "metadata": {},
   "outputs": [],
   "source": [
    "x = 24.58  # Example 1"
   ]
  },
  {
   "cell_type": "code",
   "execution_count": 46,
   "id": "21f72d7a",
   "metadata": {},
   "outputs": [
    {
     "data": {
      "text/plain": [
       "24.58"
      ]
     },
     "execution_count": 46,
     "metadata": {},
     "output_type": "execute_result"
    }
   ],
   "source": [
    "x"
   ]
  },
  {
   "cell_type": "code",
   "execution_count": 47,
   "id": "d76432d8",
   "metadata": {},
   "outputs": [
    {
     "data": {
      "text/plain": [
       "float"
      ]
     },
     "execution_count": 47,
     "metadata": {},
     "output_type": "execute_result"
    }
   ],
   "source": [
    "type(x)"
   ]
  },
  {
   "cell_type": "code",
   "execution_count": 48,
   "id": "aec0518e",
   "metadata": {},
   "outputs": [
    {
     "data": {
      "text/plain": [
       "24"
      ]
     },
     "execution_count": 48,
     "metadata": {},
     "output_type": "execute_result"
    }
   ],
   "source": [
    "int(x)"
   ]
  },
  {
   "cell_type": "code",
   "execution_count": 43,
   "id": "4c40deed",
   "metadata": {},
   "outputs": [
    {
     "data": {
      "text/plain": [
       "'24.58'"
      ]
     },
     "execution_count": 43,
     "metadata": {},
     "output_type": "execute_result"
    }
   ],
   "source": [
    "str(x)"
   ]
  },
  {
   "cell_type": "code",
   "execution_count": 39,
   "id": "3779e0af",
   "metadata": {},
   "outputs": [
    {
     "data": {
      "text/plain": [
       "(24.58+0j)"
      ]
     },
     "execution_count": 39,
     "metadata": {},
     "output_type": "execute_result"
    }
   ],
   "source": [
    "complex(x)"
   ]
  },
  {
   "cell_type": "code",
   "execution_count": 25,
   "id": "c219f8ea",
   "metadata": {},
   "outputs": [],
   "source": [
    "s3 = {1,2,2,3,45,56,3,2,3,4,1,4,4,4,4,6,7,10,8,7,8,9,7,7}     # Example 2"
   ]
  },
  {
   "cell_type": "code",
   "execution_count": 26,
   "id": "043326a1",
   "metadata": {},
   "outputs": [
    {
     "data": {
      "text/plain": [
       "{1, 2, 3, 4, 6, 7, 8, 9, 10, 45, 56}"
      ]
     },
     "execution_count": 26,
     "metadata": {},
     "output_type": "execute_result"
    }
   ],
   "source": [
    "s3"
   ]
  },
  {
   "cell_type": "code",
   "execution_count": 27,
   "id": "027280c5",
   "metadata": {},
   "outputs": [
    {
     "data": {
      "text/plain": [
       "(1, 2, 3, 4, 6, 7, 8, 9, 10, 45, 56)"
      ]
     },
     "execution_count": 27,
     "metadata": {},
     "output_type": "execute_result"
    }
   ],
   "source": [
    "tuple(s3)"
   ]
  },
  {
   "cell_type": "code",
   "execution_count": 29,
   "id": "03157afa",
   "metadata": {},
   "outputs": [
    {
     "data": {
      "text/plain": [
       "[1, 2, 3, 4, 6, 7, 8, 9, 10, 45, 56]"
      ]
     },
     "execution_count": 29,
     "metadata": {},
     "output_type": "execute_result"
    }
   ],
   "source": [
    "list(s3)"
   ]
  },
  {
   "cell_type": "markdown",
   "id": "5845b405",
   "metadata": {},
   "source": [
    "### Q.4. How do you write and execute a Python script from the command line?"
   ]
  },
  {
   "cell_type": "markdown",
   "id": "15a9b9da",
   "metadata": {},
   "source": [
    "1) open a file and write 'Hello world' and save the file at '.py' extension.\n",
    "2) Then go to the windows and open command prompt\n",
    "3) Navigate to the directory where you saved the Python script using the 'cd' command.\n",
    "4) Once we are in the correct directory, we can execute the Python script using the python command, followed by the filename. In our case, we would execute the following command: python <file name.py>\n",
    "5) Press Enter to run the command. The Python interpreter will execute the script, and we should see the output."
   ]
  },
  {
   "cell_type": "markdown",
   "id": "765d26ad",
   "metadata": {},
   "source": [
    "### Q5. Given a list my_list = [1, 2, 3, 4, 5], write the code to slice the list and obtain the sub-list [2, 3]."
   ]
  },
  {
   "cell_type": "code",
   "execution_count": 50,
   "id": "404721fe",
   "metadata": {},
   "outputs": [],
   "source": [
    "my_list = [1,2,3,4,5]"
   ]
  },
  {
   "cell_type": "code",
   "execution_count": 51,
   "id": "6a0708ff",
   "metadata": {},
   "outputs": [
    {
     "data": {
      "text/plain": [
       "[2, 3]"
      ]
     },
     "execution_count": 51,
     "metadata": {},
     "output_type": "execute_result"
    }
   ],
   "source": [
    "my_list[1:3]"
   ]
  },
  {
   "cell_type": "markdown",
   "id": "9e422de8",
   "metadata": {},
   "source": [
    "### Q6. What is a complex number in mathematics, and how is it represented in Python?"
   ]
  },
  {
   "cell_type": "markdown",
   "id": "05e2b875",
   "metadata": {},
   "source": [
    "Complex numbers are the numbers that are expressed in the form of a+ib where, a,b are real numbers and 'i' is an imaginary number called “iota”. \n",
    "The value of i = (√-1). For example, 2+3i is a complex number, where 2 is a real number (Re) and 3i is an imaginary number (Im)"
   ]
  },
  {
   "cell_type": "markdown",
   "id": "721bb1ae",
   "metadata": {},
   "source": [
    "Python complex number can be created either using direct assignment statement or by using complex () function."
   ]
  },
  {
   "cell_type": "code",
   "execution_count": 55,
   "id": "57a0505a",
   "metadata": {},
   "outputs": [],
   "source": [
    "c = 4 + 7j     #Direct assigment"
   ]
  },
  {
   "cell_type": "code",
   "execution_count": 56,
   "id": "79d3eb4a",
   "metadata": {},
   "outputs": [
    {
     "data": {
      "text/plain": [
       "(4+7j)"
      ]
     },
     "execution_count": 56,
     "metadata": {},
     "output_type": "execute_result"
    }
   ],
   "source": [
    "c"
   ]
  },
  {
   "cell_type": "code",
   "execution_count": 57,
   "id": "087e1466",
   "metadata": {},
   "outputs": [
    {
     "data": {
      "text/plain": [
       "complex"
      ]
     },
     "execution_count": 57,
     "metadata": {},
     "output_type": "execute_result"
    }
   ],
   "source": [
    "type(c)"
   ]
  },
  {
   "cell_type": "code",
   "execution_count": 58,
   "id": "7816d150",
   "metadata": {},
   "outputs": [],
   "source": [
    "c1 = complex(9,5)     #by using complex function"
   ]
  },
  {
   "cell_type": "code",
   "execution_count": 60,
   "id": "77a48b32",
   "metadata": {},
   "outputs": [
    {
     "data": {
      "text/plain": [
       "(9+5j)"
      ]
     },
     "execution_count": 60,
     "metadata": {},
     "output_type": "execute_result"
    }
   ],
   "source": [
    "c1"
   ]
  },
  {
   "cell_type": "code",
   "execution_count": 62,
   "id": "b0a7f850",
   "metadata": {},
   "outputs": [
    {
     "name": "stdout",
     "output_type": "stream",
     "text": [
      "(9+5j) <class 'complex'>\n"
     ]
    }
   ],
   "source": [
    "print(c1, type(c1))"
   ]
  },
  {
   "cell_type": "markdown",
   "id": "fe5ba377",
   "metadata": {},
   "source": [
    "### Q7. What is the correct way to declare a variable named age and assign the value 25 to it?"
   ]
  },
  {
   "cell_type": "code",
   "execution_count": 63,
   "id": "79952253",
   "metadata": {},
   "outputs": [],
   "source": [
    "age = 25"
   ]
  },
  {
   "cell_type": "code",
   "execution_count": 76,
   "id": "30fdd7a7",
   "metadata": {},
   "outputs": [
    {
     "name": "stdout",
     "output_type": "stream",
     "text": [
      "25\n"
     ]
    }
   ],
   "source": [
    "print(age)"
   ]
  },
  {
   "cell_type": "markdown",
   "id": "fc43c6fe",
   "metadata": {},
   "source": [
    "### Q8. Declare a variable named price and assign the value 9.99 to it. What data type does this variable belong to?"
   ]
  },
  {
   "cell_type": "code",
   "execution_count": 64,
   "id": "a2c32777",
   "metadata": {},
   "outputs": [],
   "source": [
    "price = 9.99"
   ]
  },
  {
   "cell_type": "code",
   "execution_count": 77,
   "id": "43e274fb",
   "metadata": {},
   "outputs": [
    {
     "name": "stdout",
     "output_type": "stream",
     "text": [
      "9.99\n"
     ]
    }
   ],
   "source": [
    "print(price)"
   ]
  },
  {
   "cell_type": "code",
   "execution_count": 65,
   "id": "1765af99",
   "metadata": {},
   "outputs": [
    {
     "data": {
      "text/plain": [
       "float"
      ]
     },
     "execution_count": 65,
     "metadata": {},
     "output_type": "execute_result"
    }
   ],
   "source": [
    "type(price)"
   ]
  },
  {
   "cell_type": "markdown",
   "id": "b2704970",
   "metadata": {},
   "source": [
    "### Q9. Create a variable named name and assign your full name to it as a string. How would you print the value of this variable?"
   ]
  },
  {
   "cell_type": "code",
   "execution_count": 66,
   "id": "b856a4ad",
   "metadata": {},
   "outputs": [],
   "source": [
    "name = 'Ansari Zeenat Mohd Nooruddin'"
   ]
  },
  {
   "cell_type": "code",
   "execution_count": 67,
   "id": "56b7c1b4",
   "metadata": {},
   "outputs": [
    {
     "name": "stdout",
     "output_type": "stream",
     "text": [
      "Ansari Zeenat Mohd Nooruddin\n"
     ]
    }
   ],
   "source": [
    "print(name)"
   ]
  },
  {
   "cell_type": "markdown",
   "id": "23f5ad62",
   "metadata": {},
   "source": [
    "### Q10. Given the string \"Hello, World!\", extract the substring \"World\"."
   ]
  },
  {
   "cell_type": "code",
   "execution_count": 68,
   "id": "0fb80268",
   "metadata": {},
   "outputs": [],
   "source": [
    "str = 'Hello, World!'"
   ]
  },
  {
   "cell_type": "code",
   "execution_count": 69,
   "id": "efded0de",
   "metadata": {},
   "outputs": [
    {
     "data": {
      "text/plain": [
       "'World'"
      ]
     },
     "execution_count": 69,
     "metadata": {},
     "output_type": "execute_result"
    }
   ],
   "source": [
    "str[7:12]"
   ]
  },
  {
   "cell_type": "markdown",
   "id": "74cd349d",
   "metadata": {},
   "source": [
    "### Q11. Create a variable named \"is_student\" and assign it a boolean value indicating whether you are currently a student or not."
   ]
  },
  {
   "cell_type": "code",
   "execution_count": 74,
   "id": "2f63c4c4",
   "metadata": {},
   "outputs": [],
   "source": [
    "is_student = True"
   ]
  },
  {
   "cell_type": "code",
   "execution_count": 71,
   "id": "2c1316a6",
   "metadata": {},
   "outputs": [
    {
     "data": {
      "text/plain": [
       "True"
      ]
     },
     "execution_count": 71,
     "metadata": {},
     "output_type": "execute_result"
    }
   ],
   "source": [
    "is_student"
   ]
  },
  {
   "cell_type": "code",
   "execution_count": 73,
   "id": "62b45a0d",
   "metadata": {},
   "outputs": [
    {
     "data": {
      "text/plain": [
       "bool"
      ]
     },
     "execution_count": 73,
     "metadata": {},
     "output_type": "execute_result"
    }
   ],
   "source": [
    "type(is_student)"
   ]
  }
 ],
 "metadata": {
  "kernelspec": {
   "display_name": "Python 3",
   "language": "python",
   "name": "python3"
  },
  "language_info": {
   "codemirror_mode": {
    "name": "ipython",
    "version": 3
   },
   "file_extension": ".py",
   "mimetype": "text/x-python",
   "name": "python",
   "nbconvert_exporter": "python",
   "pygments_lexer": "ipython3",
   "version": "3.8.8"
  }
 },
 "nbformat": 4,
 "nbformat_minor": 5
}
