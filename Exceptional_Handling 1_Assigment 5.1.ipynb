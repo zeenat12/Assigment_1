{
 "cells": [
  {
   "cell_type": "markdown",
   "id": "15ce30ff",
   "metadata": {},
   "source": [
    "##  Q.1 What is an Exception in python? write the difference between Exceptions and syntax errors."
   ]
  },
  {
   "cell_type": "markdown",
   "id": "441fd9df",
   "metadata": {},
   "source": [
    "Exceptions in Python are objects that represent errors or exceptional conditions that can occur during program execution. Python provides a rich set of built-in exceptions, such as TypeError, ValueError, FileNotFoundError, etc. Additionally, we can create our own custom exceptions by defining classes that inherit from the base Exception class or one of its subclasses."
   ]
  },
  {
   "cell_type": "markdown",
   "id": "e5d6603c",
   "metadata": {},
   "source": [
    "The main difference between exceptions and syntax errors is that exceptions occur during the execution of a program when an exceptional condition arises, while syntax errors occur during the parsing or interpretation of the code before its execution. Exceptions can be handled and recovered from within the program, while syntax errors require fixing the code before it can be executed successfully."
   ]
  },
  {
   "cell_type": "code",
   "execution_count": null,
   "id": "faa5e105",
   "metadata": {},
   "outputs": [],
   "source": [
    "Example to illustrate the program"
   ]
  },
  {
   "cell_type": "code",
   "execution_count": 4,
   "id": "379453f3",
   "metadata": {},
   "outputs": [
    {
     "ename": "SyntaxError",
     "evalue": "invalid syntax (<ipython-input-4-9becb4d1620d>, line 4)",
     "output_type": "error",
     "traceback": [
      "\u001b[1;36m  File \u001b[1;32m\"<ipython-input-4-9becb4d1620d>\"\u001b[1;36m, line \u001b[1;32m4\u001b[0m\n\u001b[1;33m    if a > 2000\u001b[0m\n\u001b[1;37m               ^\u001b[0m\n\u001b[1;31mSyntaxError\u001b[0m\u001b[1;31m:\u001b[0m invalid syntax\n"
     ]
    }
   ],
   "source": [
    "# Example of syntax error\n",
    "\n",
    "a = 450\n",
    "if a > 2000\n",
    "    print('Tha value of a is correct')"
   ]
  },
  {
   "cell_type": "code",
   "execution_count": 5,
   "id": "fbe3b166",
   "metadata": {},
   "outputs": [
    {
     "name": "stdout",
     "output_type": "stream",
     "text": [
      "division by zero\n"
     ]
    }
   ],
   "source": [
    "# Example of Exception\n",
    "try:\n",
    "    a = 12\n",
    "    12/0\n",
    "except ZeroDivisionError as p:\n",
    "    print(p)"
   ]
  },
  {
   "cell_type": "markdown",
   "id": "55d98b66",
   "metadata": {},
   "source": [
    "## Q. 2 What happens when an Exception is not handled? Explain with an example."
   ]
  },
  {
   "cell_type": "markdown",
   "id": "541bb535",
   "metadata": {},
   "source": [
    "When an exception is not handled in Python, it leads to the termination of the program and an error message called a traceback is displayed. The traceback provides information about the exception that occurred and the sequence of function calls that led to the exception."
   ]
  },
  {
   "cell_type": "code",
   "execution_count": 6,
   "id": "b0ad4ee6",
   "metadata": {},
   "outputs": [
    {
     "ename": "ZeroDivisionError",
     "evalue": "division by zero",
     "output_type": "error",
     "traceback": [
      "\u001b[1;31m---------------------------------------------------------------------------\u001b[0m",
      "\u001b[1;31mZeroDivisionError\u001b[0m                         Traceback (most recent call last)",
      "\u001b[1;32m<ipython-input-6-d3e79cdd61ba>\u001b[0m in \u001b[0;36m<module>\u001b[1;34m\u001b[0m\n\u001b[0;32m      6\u001b[0m \u001b[0mnum2\u001b[0m \u001b[1;33m=\u001b[0m \u001b[1;36m0\u001b[0m\u001b[1;33m\u001b[0m\u001b[1;33m\u001b[0m\u001b[0m\n\u001b[0;32m      7\u001b[0m \u001b[1;33m\u001b[0m\u001b[0m\n\u001b[1;32m----> 8\u001b[1;33m \u001b[0mdivide\u001b[0m\u001b[1;33m(\u001b[0m\u001b[0mnum1\u001b[0m\u001b[1;33m,\u001b[0m \u001b[0mnum2\u001b[0m\u001b[1;33m)\u001b[0m\u001b[1;33m\u001b[0m\u001b[1;33m\u001b[0m\u001b[0m\n\u001b[0m\u001b[0;32m      9\u001b[0m \u001b[0mprint\u001b[0m\u001b[1;33m(\u001b[0m\u001b[1;34m\"Program continues...\"\u001b[0m\u001b[1;33m)\u001b[0m  \u001b[1;31m# This line is not executed\u001b[0m\u001b[1;33m\u001b[0m\u001b[1;33m\u001b[0m\u001b[0m\n",
      "\u001b[1;32m<ipython-input-6-d3e79cdd61ba>\u001b[0m in \u001b[0;36mdivide\u001b[1;34m(a, b)\u001b[0m\n\u001b[0;32m      1\u001b[0m \u001b[1;32mdef\u001b[0m \u001b[0mdivide\u001b[0m\u001b[1;33m(\u001b[0m\u001b[0ma\u001b[0m\u001b[1;33m,\u001b[0m \u001b[0mb\u001b[0m\u001b[1;33m)\u001b[0m\u001b[1;33m:\u001b[0m\u001b[1;33m\u001b[0m\u001b[1;33m\u001b[0m\u001b[0m\n\u001b[1;32m----> 2\u001b[1;33m     \u001b[0mresult\u001b[0m \u001b[1;33m=\u001b[0m \u001b[0ma\u001b[0m \u001b[1;33m/\u001b[0m \u001b[0mb\u001b[0m\u001b[1;33m\u001b[0m\u001b[1;33m\u001b[0m\u001b[0m\n\u001b[0m\u001b[0;32m      3\u001b[0m     \u001b[0mprint\u001b[0m\u001b[1;33m(\u001b[0m\u001b[1;34m\"Result:\"\u001b[0m\u001b[1;33m,\u001b[0m \u001b[0mresult\u001b[0m\u001b[1;33m)\u001b[0m\u001b[1;33m\u001b[0m\u001b[1;33m\u001b[0m\u001b[0m\n\u001b[0;32m      4\u001b[0m \u001b[1;33m\u001b[0m\u001b[0m\n\u001b[0;32m      5\u001b[0m \u001b[0mnum1\u001b[0m \u001b[1;33m=\u001b[0m \u001b[1;36m10\u001b[0m\u001b[1;33m\u001b[0m\u001b[1;33m\u001b[0m\u001b[0m\n",
      "\u001b[1;31mZeroDivisionError\u001b[0m: division by zero"
     ]
    }
   ],
   "source": [
    "def divide(a, b):\n",
    "    result = a / b\n",
    "    print(\"Result:\", result)\n",
    "\n",
    "num1 = 10\n",
    "num2 = 0\n",
    "\n",
    "divide(num1, num2)\n",
    "print(\"Program continues...\")  # This line is not executed\n"
   ]
  },
  {
   "cell_type": "markdown",
   "id": "2f00fe43",
   "metadata": {},
   "source": [
    "## Q. 3 Which python statements are used to catch and handle exceptions? Exlpain with an example."
   ]
  },
  {
   "cell_type": "markdown",
   "id": "ce196536",
   "metadata": {},
   "source": [
    "In Python, the try-except statement is used to catch and handle exceptions. The try block contains the code that might raise an exception, and the except block specifies the code to be executed if a particular exception is raised within the try block."
   ]
  },
  {
   "cell_type": "code",
   "execution_count": 8,
   "id": "e61117b7",
   "metadata": {},
   "outputs": [
    {
     "name": "stdout",
     "output_type": "stream",
     "text": [
      "An exception is occurred\n"
     ]
    }
   ],
   "source": [
    "try:\n",
    "    print(x)\n",
    "except:\n",
    "    print('An exception is occurred')"
   ]
  },
  {
   "cell_type": "markdown",
   "id": "de50064d",
   "metadata": {},
   "source": [
    "## Q.4 Explain with an example\n",
    "### a) try and else\n",
    "### b) finally \n",
    "### c) raised"
   ]
  },
  {
   "cell_type": "markdown",
   "id": "f0d38cf6",
   "metadata": {},
   "source": [
    "a) In Python, the try-except-else statement allows you to handle exceptions and specify code to be executed when no exceptions are raised within the try block.\n",
    "The else block is optional, and it will not be executed if an exception occurs within the try block. It is specifically designed to handle the case when no exceptions are raised, allowing you to execute additional code based on the successful execution of the try block."
   ]
  },
  {
   "cell_type": "code",
   "execution_count": 14,
   "id": "a31e6261",
   "metadata": {},
   "outputs": [
    {
     "name": "stdout",
     "output_type": "stream",
     "text": [
      "Enter the numerator:49\n",
      "Enter the denominator:7\n",
      "result 7.0\n"
     ]
    }
   ],
   "source": [
    "# example:\n",
    "\n",
    "try:\n",
    "    a = int(input('Enter the numerator:'))\n",
    "    b = int(input('Enter the denominator:'))\n",
    "    result = a/b\n",
    "except ValueError as t:\n",
    "    print('Invaild input. please enter a vaild number', t)\n",
    "except ZeroDivisionError as p:\n",
    "    print('cannot divide by zero' , p)\n",
    "else:\n",
    "    print('result' , result)"
   ]
  },
  {
   "cell_type": "markdown",
   "id": "30ecc0aa",
   "metadata": {},
   "source": [
    "b) In Python, the finally block is used in conjunction with the try-except statement to specify a block of code that will be executed regardless of whether an exception is raised or not. The finally block is optional and comes after the try and except blocks."
   ]
  },
  {
   "cell_type": "code",
   "execution_count": 17,
   "id": "2e47afab",
   "metadata": {},
   "outputs": [],
   "source": [
    "try:\n",
    "    with open('except.txt' , 'w') as f:\n",
    "        f.write('this is exception handling code')\n",
    "except FileNotFoundError as f:\n",
    "    print('this is not file', f)\n",
    "finally:\n",
    "    f.close()"
   ]
  },
  {
   "cell_type": "markdown",
   "id": "ce0b1314",
   "metadata": {},
   "source": [
    "c) In python programming, exceptions are raised when corresponding errors occur at run time, but we can forcefully raise it using the keyword riase"
   ]
  },
  {
   "cell_type": "code",
   "execution_count": 52,
   "id": "91b95fd5",
   "metadata": {},
   "outputs": [
    {
     "name": "stdout",
     "output_type": "stream",
     "text": [
      "enter you age: -78\n",
      "age should not be negative\n"
     ]
    }
   ],
   "source": [
    "try:\n",
    "    age = int(input('enter you age: '))\n",
    "    if a>= 0:\n",
    "        raise ValueError('age should not be negative')\n",
    "except ValueError as v:\n",
    "    print(v)"
   ]
  },
  {
   "cell_type": "markdown",
   "id": "0ba1b9a6",
   "metadata": {},
   "source": [
    "## Q.5 What are custom Exception in python? Why do we need Custom Exception? Explain with an example."
   ]
  },
  {
   "cell_type": "markdown",
   "id": "f4ac4484",
   "metadata": {},
   "source": [
    "In Python, custom exceptions are user-defined exceptions that allow you to create and raise your own specific types of exceptions. By creating custom exceptions, you can define unique error conditions and provide more meaningful and specific error messages to handle specific scenarios in your code."
   ]
  },
  {
   "cell_type": "markdown",
   "id": "6d386cc6",
   "metadata": {},
   "source": [
    "Sometimes based on project requirement, a programmer needs to create his own exceptions and raise explicitly for corresponding scenarios. Such types of exceptions are called customized Exceptions or Programmatic Exceptions. We can raise a custom exception by using the keyword ‘raise’."
   ]
  },
  {
   "cell_type": "code",
   "execution_count": 53,
   "id": "d998e92e",
   "metadata": {},
   "outputs": [
    {
     "name": "stdout",
     "output_type": "stream",
     "text": [
      "Enter the integer number: 67\n"
     ]
    }
   ],
   "source": [
    "class integer_number(Exception):\n",
    "    def __init__(self, data):\n",
    "        self.data = data\n",
    "        \n",
    "try:\n",
    "    x = int(input('Enter the integer number: '))\n",
    "    if x < 0:\n",
    "        raise integer_number(x)\n",
    "except integer_number as i:\n",
    "    print('you provided {}. please provide positive integer values only'.format(i))"
   ]
  },
  {
   "cell_type": "markdown",
   "id": "d5b0e40d",
   "metadata": {},
   "source": [
    "## Q.6 Create a custom exception class. use this class to handle the exception"
   ]
  },
  {
   "cell_type": "code",
   "execution_count": 39,
   "id": "0e09a102",
   "metadata": {},
   "outputs": [
    {
     "name": "stdout",
     "output_type": "stream",
     "text": [
      "enter your age-90\n",
      "age should not be negative\n"
     ]
    }
   ],
   "source": [
    "class vaildage(Exception):\n",
    "    def __init__(self, msg):\n",
    "        self.msg = msg\n",
    "    \n",
    "def vaild_age(age):\n",
    "    if age < 0:\n",
    "        raise vaildage('age should not be negative')\n",
    "    elif age > 200:\n",
    "        raise vaildage('age is too high')\n",
    "    else:\n",
    "        print('age is vaild')\n",
    "        \n",
    "try:\n",
    "    age = int(input('enter your age'))\n",
    "    validate_age(age)\n",
    "except validateage as f:\n",
    "    print(f)\n",
    "            "
   ]
  },
  {
   "cell_type": "code",
   "execution_count": null,
   "id": "c1f1e80d",
   "metadata": {},
   "outputs": [],
   "source": []
  },
  {
   "cell_type": "code",
   "execution_count": null,
   "id": "e56b0229",
   "metadata": {},
   "outputs": [],
   "source": []
  },
  {
   "cell_type": "code",
   "execution_count": null,
   "id": "87a4f8c2",
   "metadata": {},
   "outputs": [],
   "source": []
  },
  {
   "cell_type": "code",
   "execution_count": null,
   "id": "8c643fc2",
   "metadata": {},
   "outputs": [],
   "source": []
  },
  {
   "cell_type": "code",
   "execution_count": null,
   "id": "08d9e528",
   "metadata": {},
   "outputs": [],
   "source": []
  },
  {
   "cell_type": "code",
   "execution_count": null,
   "id": "d89d277d",
   "metadata": {},
   "outputs": [],
   "source": []
  },
  {
   "cell_type": "code",
   "execution_count": null,
   "id": "44a7e66c",
   "metadata": {},
   "outputs": [],
   "source": []
  },
  {
   "cell_type": "code",
   "execution_count": null,
   "id": "e5323525",
   "metadata": {},
   "outputs": [],
   "source": []
  },
  {
   "cell_type": "code",
   "execution_count": null,
   "id": "c78668ee",
   "metadata": {},
   "outputs": [],
   "source": []
  },
  {
   "cell_type": "code",
   "execution_count": null,
   "id": "48db7f06",
   "metadata": {},
   "outputs": [],
   "source": []
  },
  {
   "cell_type": "code",
   "execution_count": null,
   "id": "809d933a",
   "metadata": {},
   "outputs": [],
   "source": []
  },
  {
   "cell_type": "code",
   "execution_count": null,
   "id": "b3929eaf",
   "metadata": {},
   "outputs": [],
   "source": []
  },
  {
   "cell_type": "code",
   "execution_count": null,
   "id": "4ba52ecc",
   "metadata": {},
   "outputs": [],
   "source": []
  },
  {
   "cell_type": "code",
   "execution_count": null,
   "id": "17325608",
   "metadata": {},
   "outputs": [],
   "source": []
  },
  {
   "cell_type": "code",
   "execution_count": null,
   "id": "e6496e7a",
   "metadata": {},
   "outputs": [],
   "source": []
  },
  {
   "cell_type": "code",
   "execution_count": null,
   "id": "b45542fd",
   "metadata": {},
   "outputs": [],
   "source": []
  },
  {
   "cell_type": "code",
   "execution_count": null,
   "id": "4ade2f4e",
   "metadata": {},
   "outputs": [],
   "source": []
  },
  {
   "cell_type": "code",
   "execution_count": null,
   "id": "fa0fa6c8",
   "metadata": {},
   "outputs": [],
   "source": []
  },
  {
   "cell_type": "code",
   "execution_count": null,
   "id": "4a9f6b23",
   "metadata": {},
   "outputs": [],
   "source": []
  },
  {
   "cell_type": "code",
   "execution_count": null,
   "id": "0dd01f31",
   "metadata": {},
   "outputs": [],
   "source": []
  },
  {
   "cell_type": "code",
   "execution_count": null,
   "id": "6adfa35a",
   "metadata": {},
   "outputs": [],
   "source": []
  },
  {
   "cell_type": "code",
   "execution_count": null,
   "id": "8c5e6028",
   "metadata": {},
   "outputs": [],
   "source": []
  },
  {
   "cell_type": "code",
   "execution_count": null,
   "id": "e971a65f",
   "metadata": {},
   "outputs": [],
   "source": []
  },
  {
   "cell_type": "code",
   "execution_count": null,
   "id": "680b0589",
   "metadata": {},
   "outputs": [],
   "source": []
  },
  {
   "cell_type": "code",
   "execution_count": null,
   "id": "b1e2e313",
   "metadata": {},
   "outputs": [],
   "source": []
  },
  {
   "cell_type": "code",
   "execution_count": null,
   "id": "1b6586f1",
   "metadata": {},
   "outputs": [],
   "source": []
  },
  {
   "cell_type": "code",
   "execution_count": null,
   "id": "be798cd7",
   "metadata": {},
   "outputs": [],
   "source": []
  },
  {
   "cell_type": "code",
   "execution_count": null,
   "id": "d473dabd",
   "metadata": {},
   "outputs": [],
   "source": []
  },
  {
   "cell_type": "code",
   "execution_count": null,
   "id": "a46abf5d",
   "metadata": {},
   "outputs": [],
   "source": []
  },
  {
   "cell_type": "code",
   "execution_count": null,
   "id": "f01af3f9",
   "metadata": {},
   "outputs": [],
   "source": []
  },
  {
   "cell_type": "code",
   "execution_count": null,
   "id": "e802acc2",
   "metadata": {},
   "outputs": [],
   "source": []
  },
  {
   "cell_type": "code",
   "execution_count": null,
   "id": "a7c1d8cf",
   "metadata": {},
   "outputs": [],
   "source": []
  },
  {
   "cell_type": "code",
   "execution_count": null,
   "id": "c217eb70",
   "metadata": {},
   "outputs": [],
   "source": []
  },
  {
   "cell_type": "code",
   "execution_count": null,
   "id": "cbb530d2",
   "metadata": {},
   "outputs": [],
   "source": []
  },
  {
   "cell_type": "code",
   "execution_count": null,
   "id": "87ba2989",
   "metadata": {},
   "outputs": [],
   "source": []
  },
  {
   "cell_type": "code",
   "execution_count": null,
   "id": "a11d5d10",
   "metadata": {},
   "outputs": [],
   "source": []
  },
  {
   "cell_type": "code",
   "execution_count": null,
   "id": "c1ca62e1",
   "metadata": {},
   "outputs": [],
   "source": []
  },
  {
   "cell_type": "code",
   "execution_count": null,
   "id": "cf876c40",
   "metadata": {},
   "outputs": [],
   "source": []
  },
  {
   "cell_type": "code",
   "execution_count": null,
   "id": "0802beba",
   "metadata": {},
   "outputs": [],
   "source": []
  },
  {
   "cell_type": "code",
   "execution_count": null,
   "id": "6104f0ce",
   "metadata": {},
   "outputs": [],
   "source": []
  },
  {
   "cell_type": "code",
   "execution_count": null,
   "id": "71e7b722",
   "metadata": {},
   "outputs": [],
   "source": []
  },
  {
   "cell_type": "code",
   "execution_count": null,
   "id": "f84a9f63",
   "metadata": {},
   "outputs": [],
   "source": []
  },
  {
   "cell_type": "code",
   "execution_count": null,
   "id": "09822124",
   "metadata": {},
   "outputs": [],
   "source": []
  },
  {
   "cell_type": "code",
   "execution_count": null,
   "id": "d7a3bfa4",
   "metadata": {},
   "outputs": [],
   "source": []
  },
  {
   "cell_type": "code",
   "execution_count": null,
   "id": "d7033bab",
   "metadata": {},
   "outputs": [],
   "source": []
  },
  {
   "cell_type": "code",
   "execution_count": null,
   "id": "09baed35",
   "metadata": {},
   "outputs": [],
   "source": []
  },
  {
   "cell_type": "code",
   "execution_count": null,
   "id": "52af08d7",
   "metadata": {},
   "outputs": [],
   "source": []
  },
  {
   "cell_type": "code",
   "execution_count": null,
   "id": "5805890a",
   "metadata": {},
   "outputs": [],
   "source": []
  },
  {
   "cell_type": "code",
   "execution_count": null,
   "id": "fb66a1e2",
   "metadata": {},
   "outputs": [],
   "source": []
  },
  {
   "cell_type": "code",
   "execution_count": null,
   "id": "6ca95549",
   "metadata": {},
   "outputs": [],
   "source": []
  },
  {
   "cell_type": "code",
   "execution_count": null,
   "id": "3aaea6eb",
   "metadata": {},
   "outputs": [],
   "source": []
  },
  {
   "cell_type": "code",
   "execution_count": null,
   "id": "88a81a7d",
   "metadata": {},
   "outputs": [],
   "source": []
  },
  {
   "cell_type": "code",
   "execution_count": null,
   "id": "ddc8c829",
   "metadata": {},
   "outputs": [],
   "source": []
  },
  {
   "cell_type": "code",
   "execution_count": null,
   "id": "ab913357",
   "metadata": {},
   "outputs": [],
   "source": []
  },
  {
   "cell_type": "code",
   "execution_count": null,
   "id": "c250ca96",
   "metadata": {},
   "outputs": [],
   "source": []
  },
  {
   "cell_type": "code",
   "execution_count": null,
   "id": "699bbacb",
   "metadata": {},
   "outputs": [],
   "source": []
  },
  {
   "cell_type": "code",
   "execution_count": null,
   "id": "9e666e1c",
   "metadata": {},
   "outputs": [],
   "source": []
  },
  {
   "cell_type": "code",
   "execution_count": null,
   "id": "dd61db54",
   "metadata": {},
   "outputs": [],
   "source": []
  }
 ],
 "metadata": {
  "kernelspec": {
   "display_name": "Python 3",
   "language": "python",
   "name": "python3"
  },
  "language_info": {
   "codemirror_mode": {
    "name": "ipython",
    "version": 3
   },
   "file_extension": ".py",
   "mimetype": "text/x-python",
   "name": "python",
   "nbconvert_exporter": "python",
   "pygments_lexer": "ipython3",
   "version": "3.8.8"
  }
 },
 "nbformat": 4,
 "nbformat_minor": 5
}
